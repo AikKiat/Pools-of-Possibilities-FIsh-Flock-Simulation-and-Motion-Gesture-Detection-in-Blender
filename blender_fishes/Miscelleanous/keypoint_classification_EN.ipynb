{
 "cells": [
  {
   "cell_type": "markdown",
   "metadata": {
    "id": "t2HDvhIu9hEr"
   },
   "source": [
    "# Specify each path"
   ]
  },
  {
   "cell_type": "code",
   "execution_count": 61,
   "metadata": {
    "id": "igMyGnjE9hEp"
   },
   "outputs": [],
   "source": [
    "import csv\n",
    "\n",
    "import numpy as np\n",
    "import tensorflow as tf\n",
    "from sklearn.model_selection import train_test_split\n",
    "\n",
    "RANDOM_SEED = 42"
   ]
  },
  {
   "cell_type": "code",
   "execution_count": 62,
   "metadata": {
    "id": "9NvZP2Zn9hEy"
   },
   "outputs": [],
   "source": [
    "dataset = 'model/keypoint_classifier/keypoint.csv'\n",
    "model_save_path = 'model/keypoint_classifier/keypoint_classifier.hdf5'\n",
    "tflite_save_path = 'model/keypoint_classifier/keypoint_classifier.tflite'"
   ]
  },
  {
   "cell_type": "markdown",
   "metadata": {
    "id": "s5oMH7x19hEz"
   },
   "source": [
    "# Set number of classes"
   ]
  },
  {
   "cell_type": "code",
   "execution_count": 63,
   "metadata": {
    "id": "du4kodXL9hEz"
   },
   "outputs": [],
   "source": [
    "NUM_CLASSES = 9"
   ]
  },
  {
   "cell_type": "markdown",
   "metadata": {
    "id": "XjnL0uso9hEz"
   },
   "source": [
    "# Dataset reading"
   ]
  },
  {
   "cell_type": "code",
   "execution_count": 64,
   "metadata": {
    "id": "QT5ZqtEz9hE0"
   },
   "outputs": [
    {
     "name": "stdout",
     "output_type": "stream",
     "text": [
      "8557\n"
     ]
    }
   ],
   "source": [
    "X_dataset = np.loadtxt(dataset, delimiter=',', dtype='float32', usecols=list(range(1, (21 * 2) + 1)))\n",
    "print(len(X_dataset))"
   ]
  },
  {
   "cell_type": "code",
   "execution_count": 65,
   "metadata": {
    "id": "QmoKFsp49hE0"
   },
   "outputs": [],
   "source": [
    "y_dataset = np.loadtxt(dataset, delimiter=',', dtype='int32', usecols=(0))"
   ]
  },
  {
   "cell_type": "code",
   "execution_count": 66,
   "metadata": {
    "id": "xQU7JTZ_9hE0"
   },
   "outputs": [],
   "source": [
    "X_train, X_test, y_train, y_test = train_test_split(X_dataset, y_dataset, train_size=0.75, random_state=RANDOM_SEED)"
   ]
  },
  {
   "cell_type": "markdown",
   "metadata": {
    "id": "mxK_lETT9hE0"
   },
   "source": [
    "# Model building"
   ]
  },
  {
   "cell_type": "code",
   "execution_count": 67,
   "metadata": {
    "id": "vHBmUf1t9hE1"
   },
   "outputs": [],
   "source": [
    "model = tf.keras.models.Sequential([\n",
    "    tf.keras.layers.Input((21 * 2, )),\n",
    "    tf.keras.layers.Dropout(0.2),\n",
    "    tf.keras.layers.Dense(20, activation='relu'),\n",
    "    tf.keras.layers.Dropout(0.4),\n",
    "    tf.keras.layers.Dense(10, activation='relu'),\n",
    "    tf.keras.layers.Dense(NUM_CLASSES, activation='softmax')\n",
    "])"
   ]
  },
  {
   "cell_type": "code",
   "execution_count": 68,
   "metadata": {
    "colab": {
     "base_uri": "https://localhost:8080/"
    },
    "id": "ypqky9tc9hE1",
    "outputId": "5db082bb-30e3-4110-bf63-a1ee777ecd46"
   },
   "outputs": [
    {
     "name": "stdout",
     "output_type": "stream",
     "text": [
      "Model: \"sequential_3\"\n",
      "_________________________________________________________________\n",
      " Layer (type)                Output Shape              Param #   \n",
      "=================================================================\n",
      " dropout_6 (Dropout)         (None, 42)                0         \n",
      "                                                                 \n",
      " dense_9 (Dense)             (None, 20)                860       \n",
      "                                                                 \n",
      " dropout_7 (Dropout)         (None, 20)                0         \n",
      "                                                                 \n",
      " dense_10 (Dense)            (None, 10)                210       \n",
      "                                                                 \n",
      " dense_11 (Dense)            (None, 9)                 99        \n",
      "                                                                 \n",
      "=================================================================\n",
      "Total params: 1169 (4.57 KB)\n",
      "Trainable params: 1169 (4.57 KB)\n",
      "Non-trainable params: 0 (0.00 Byte)\n",
      "_________________________________________________________________\n"
     ]
    }
   ],
   "source": [
    "model.summary()  # tf.keras.utils.plot_model(model, show_shapes=True)"
   ]
  },
  {
   "cell_type": "code",
   "execution_count": 69,
   "metadata": {
    "id": "MbMjOflQ9hE1"
   },
   "outputs": [],
   "source": [
    "# Model checkpoint callback\n",
    "cp_callback = tf.keras.callbacks.ModelCheckpoint(\n",
    "    model_save_path, verbose=1, save_weights_only=False)\n",
    "# Callback for early stopping\n",
    "es_callback = tf.keras.callbacks.EarlyStopping(patience=20, verbose=1)"
   ]
  },
  {
   "cell_type": "code",
   "execution_count": 70,
   "metadata": {
    "id": "c3Dac0M_9hE2"
   },
   "outputs": [],
   "source": [
    "# Model compilation\n",
    "model.compile(\n",
    "    optimizer='adam',\n",
    "    loss='sparse_categorical_crossentropy',\n",
    "    metrics=['accuracy']\n",
    ")"
   ]
  },
  {
   "cell_type": "markdown",
   "metadata": {
    "id": "7XI0j1Iu9hE2"
   },
   "source": [
    "# Model training"
   ]
  },
  {
   "cell_type": "code",
   "execution_count": 71,
   "metadata": {
    "colab": {
     "base_uri": "https://localhost:8080/"
    },
    "id": "WirBl-JE9hE3",
    "outputId": "71b30ca2-8294-4d9d-8aa2-800d90d399de",
    "scrolled": true
   },
   "outputs": [
    {
     "name": "stdout",
     "output_type": "stream",
     "text": [
      "Epoch 1/1000\n",
      "36/51 [====================>.........] - ETA: 0s - loss: 2.1767 - accuracy: 0.1523\n",
      "Epoch 1: saving model to model/keypoint_classifier\\keypoint_classifier.hdf5\n",
      "51/51 [==============================] - 2s 14ms/step - loss: 2.1478 - accuracy: 0.1683 - val_loss: 2.0135 - val_accuracy: 0.2495\n",
      "Epoch 2/1000\n",
      "18/51 [=========>....................] - ETA: 0s - loss: 2.0252 - accuracy: 0.2474"
     ]
    },
    {
     "name": "stderr",
     "output_type": "stream",
     "text": [
      "C:\\Users\\ongxu\\AppData\\Roaming\\Python\\Python311\\site-packages\\keras\\src\\engine\\training.py:3103: UserWarning: You are saving your model as an HDF5 file via `model.save()`. This file format is considered legacy. We recommend using instead the native Keras format, e.g. `model.save('my_model.keras')`.\n",
      "  saving_api.save_model(\n"
     ]
    },
    {
     "name": "stdout",
     "output_type": "stream",
     "text": [
      "40/51 [======================>.......] - ETA: 0s - loss: 1.9788 - accuracy: 0.2650\n",
      "Epoch 2: saving model to model/keypoint_classifier\\keypoint_classifier.hdf5\n",
      "51/51 [==============================] - 0s 6ms/step - loss: 1.9596 - accuracy: 0.2691 - val_loss: 1.8213 - val_accuracy: 0.3860\n",
      "Epoch 3/1000\n",
      "39/51 [=====================>........] - ETA: 0s - loss: 1.8294 - accuracy: 0.3117\n",
      "Epoch 3: saving model to model/keypoint_classifier\\keypoint_classifier.hdf5\n",
      "51/51 [==============================] - 0s 4ms/step - loss: 1.8201 - accuracy: 0.3137 - val_loss: 1.6707 - val_accuracy: 0.3692\n",
      "Epoch 4/1000\n",
      "38/51 [=====================>........] - ETA: 0s - loss: 1.7111 - accuracy: 0.3460\n",
      "Epoch 4: saving model to model/keypoint_classifier\\keypoint_classifier.hdf5\n",
      "51/51 [==============================] - 0s 6ms/step - loss: 1.7019 - accuracy: 0.3458 - val_loss: 1.5522 - val_accuracy: 0.4070\n",
      "Epoch 5/1000\n",
      "50/51 [============================>.] - ETA: 0s - loss: 1.6224 - accuracy: 0.3630\n",
      "Epoch 5: saving model to model/keypoint_classifier\\keypoint_classifier.hdf5\n",
      "51/51 [==============================] - 0s 4ms/step - loss: 1.6226 - accuracy: 0.3631 - val_loss: 1.4585 - val_accuracy: 0.4701\n",
      "Epoch 6/1000\n",
      "47/51 [==========================>...] - ETA: 0s - loss: 1.5537 - accuracy: 0.3910\n",
      "Epoch 6: saving model to model/keypoint_classifier\\keypoint_classifier.hdf5\n",
      "51/51 [==============================] - 0s 4ms/step - loss: 1.5550 - accuracy: 0.3885 - val_loss: 1.3778 - val_accuracy: 0.5486\n",
      "Epoch 7/1000\n",
      "27/51 [==============>...............] - ETA: 0s - loss: 1.4985 - accuracy: 0.4115\n",
      "Epoch 7: saving model to model/keypoint_classifier\\keypoint_classifier.hdf5\n",
      "51/51 [==============================] - 0s 3ms/step - loss: 1.4924 - accuracy: 0.4192 - val_loss: 1.3097 - val_accuracy: 0.5710\n",
      "Epoch 8/1000\n",
      "28/51 [===============>..............] - ETA: 0s - loss: 1.4588 - accuracy: 0.4163\n",
      "Epoch 8: saving model to model/keypoint_classifier\\keypoint_classifier.hdf5\n",
      "51/51 [==============================] - 0s 4ms/step - loss: 1.4466 - accuracy: 0.4251 - val_loss: 1.2550 - val_accuracy: 0.6201\n",
      "Epoch 9/1000\n",
      "47/51 [==========================>...] - ETA: 0s - loss: 1.4185 - accuracy: 0.4417\n",
      "Epoch 9: saving model to model/keypoint_classifier\\keypoint_classifier.hdf5\n",
      "51/51 [==============================] - 0s 8ms/step - loss: 1.4168 - accuracy: 0.4423 - val_loss: 1.2112 - val_accuracy: 0.6346\n",
      "Epoch 10/1000\n",
      "41/51 [=======================>......] - ETA: 0s - loss: 1.3856 - accuracy: 0.4526\n",
      "Epoch 10: saving model to model/keypoint_classifier\\keypoint_classifier.hdf5\n",
      "51/51 [==============================] - 0s 5ms/step - loss: 1.3814 - accuracy: 0.4527 - val_loss: 1.1595 - val_accuracy: 0.6523\n",
      "Epoch 11/1000\n",
      "50/51 [============================>.] - ETA: 0s - loss: 1.3506 - accuracy: 0.4686\n",
      "Epoch 11: saving model to model/keypoint_classifier\\keypoint_classifier.hdf5\n",
      "51/51 [==============================] - 0s 4ms/step - loss: 1.3511 - accuracy: 0.4683 - val_loss: 1.1214 - val_accuracy: 0.6818\n",
      "Epoch 12/1000\n",
      "26/51 [==============>...............] - ETA: 0s - loss: 1.3490 - accuracy: 0.4678\n",
      "Epoch 12: saving model to model/keypoint_classifier\\keypoint_classifier.hdf5\n",
      "51/51 [==============================] - 0s 4ms/step - loss: 1.3348 - accuracy: 0.4764 - val_loss: 1.0904 - val_accuracy: 0.6911\n",
      "Epoch 13/1000\n",
      "42/51 [=======================>......] - ETA: 0s - loss: 1.3054 - accuracy: 0.4860\n",
      "Epoch 13: saving model to model/keypoint_classifier\\keypoint_classifier.hdf5\n",
      "51/51 [==============================] - 0s 6ms/step - loss: 1.3047 - accuracy: 0.4832 - val_loss: 1.0597 - val_accuracy: 0.7131\n",
      "Epoch 14/1000\n",
      "51/51 [==============================] - ETA: 0s - loss: 1.2790 - accuracy: 0.4940\n",
      "Epoch 14: saving model to model/keypoint_classifier\\keypoint_classifier.hdf5\n",
      "51/51 [==============================] - 0s 6ms/step - loss: 1.2790 - accuracy: 0.4940 - val_loss: 1.0331 - val_accuracy: 0.7065\n",
      "Epoch 15/1000\n",
      "50/51 [============================>.] - ETA: 0s - loss: 1.2647 - accuracy: 0.5038\n",
      "Epoch 15: saving model to model/keypoint_classifier\\keypoint_classifier.hdf5\n",
      "51/51 [==============================] - 0s 4ms/step - loss: 1.2642 - accuracy: 0.5043 - val_loss: 1.0096 - val_accuracy: 0.7075\n",
      "Epoch 16/1000\n",
      "45/51 [=========================>....] - ETA: 0s - loss: 1.2338 - accuracy: 0.5186\n",
      "Epoch 16: saving model to model/keypoint_classifier\\keypoint_classifier.hdf5\n",
      "51/51 [==============================] - 0s 4ms/step - loss: 1.2302 - accuracy: 0.5182 - val_loss: 0.9798 - val_accuracy: 0.7107\n",
      "Epoch 17/1000\n",
      "48/51 [===========================>..] - ETA: 0s - loss: 1.2185 - accuracy: 0.5293\n",
      "Epoch 17: saving model to model/keypoint_classifier\\keypoint_classifier.hdf5\n",
      "51/51 [==============================] - 0s 4ms/step - loss: 1.2183 - accuracy: 0.5284 - val_loss: 0.9558 - val_accuracy: 0.7234\n",
      "Epoch 18/1000\n",
      "44/51 [========================>.....] - ETA: 0s - loss: 1.2110 - accuracy: 0.5163\n",
      "Epoch 18: saving model to model/keypoint_classifier\\keypoint_classifier.hdf5\n",
      "51/51 [==============================] - 0s 4ms/step - loss: 1.2058 - accuracy: 0.5222 - val_loss: 0.9378 - val_accuracy: 0.7332\n",
      "Epoch 19/1000\n",
      "44/51 [========================>.....] - ETA: 0s - loss: 1.1933 - accuracy: 0.5353\n",
      "Epoch 19: saving model to model/keypoint_classifier\\keypoint_classifier.hdf5\n",
      "51/51 [==============================] - 0s 4ms/step - loss: 1.1951 - accuracy: 0.5365 - val_loss: 0.9176 - val_accuracy: 0.7439\n",
      "Epoch 20/1000\n",
      "47/51 [==========================>...] - ETA: 0s - loss: 1.1848 - accuracy: 0.5424\n",
      "Epoch 20: saving model to model/keypoint_classifier\\keypoint_classifier.hdf5\n",
      "51/51 [==============================] - 0s 4ms/step - loss: 1.1831 - accuracy: 0.5418 - val_loss: 0.9050 - val_accuracy: 0.7397\n",
      "Epoch 21/1000\n",
      "25/51 [=============>................] - ETA: 0s - loss: 1.1717 - accuracy: 0.5462\n",
      "Epoch 21: saving model to model/keypoint_classifier\\keypoint_classifier.hdf5\n",
      "51/51 [==============================] - 0s 4ms/step - loss: 1.1551 - accuracy: 0.5543 - val_loss: 0.8910 - val_accuracy: 0.7481\n",
      "Epoch 22/1000\n",
      "41/51 [=======================>......] - ETA: 0s - loss: 1.1410 - accuracy: 0.5574\n",
      "Epoch 22: saving model to model/keypoint_classifier\\keypoint_classifier.hdf5\n",
      "51/51 [==============================] - 0s 8ms/step - loss: 1.1461 - accuracy: 0.5528 - val_loss: 0.8711 - val_accuracy: 0.7547\n",
      "Epoch 23/1000\n",
      "40/51 [======================>.......] - ETA: 0s - loss: 1.1319 - accuracy: 0.5664\n",
      "Epoch 23: saving model to model/keypoint_classifier\\keypoint_classifier.hdf5\n",
      "51/51 [==============================] - 0s 4ms/step - loss: 1.1320 - accuracy: 0.5632 - val_loss: 0.8469 - val_accuracy: 0.7682\n",
      "Epoch 24/1000\n",
      "42/51 [=======================>......] - ETA: 0s - loss: 1.1241 - accuracy: 0.5601\n",
      "Epoch 24: saving model to model/keypoint_classifier\\keypoint_classifier.hdf5\n",
      "51/51 [==============================] - 0s 4ms/step - loss: 1.1222 - accuracy: 0.5601 - val_loss: 0.8374 - val_accuracy: 0.7710\n",
      "Epoch 25/1000\n",
      "46/51 [==========================>...] - ETA: 0s - loss: 1.1142 - accuracy: 0.5656\n",
      "Epoch 25: saving model to model/keypoint_classifier\\keypoint_classifier.hdf5\n",
      "51/51 [==============================] - 0s 4ms/step - loss: 1.1080 - accuracy: 0.5686 - val_loss: 0.8243 - val_accuracy: 0.7822\n",
      "Epoch 26/1000\n",
      "44/51 [========================>.....] - ETA: 0s - loss: 1.1097 - accuracy: 0.5657\n",
      "Epoch 26: saving model to model/keypoint_classifier\\keypoint_classifier.hdf5\n",
      "51/51 [==============================] - 0s 7ms/step - loss: 1.1043 - accuracy: 0.5702 - val_loss: 0.8169 - val_accuracy: 0.7879\n",
      "Epoch 27/1000\n",
      "42/51 [=======================>......] - ETA: 0s - loss: 1.0948 - accuracy: 0.5820\n",
      "Epoch 27: saving model to model/keypoint_classifier\\keypoint_classifier.hdf5\n",
      "51/51 [==============================] - 0s 4ms/step - loss: 1.0939 - accuracy: 0.5817 - val_loss: 0.8044 - val_accuracy: 0.7855\n",
      "Epoch 28/1000\n",
      "26/51 [==============>...............] - ETA: 0s - loss: 1.0788 - accuracy: 0.5898\n",
      "Epoch 28: saving model to model/keypoint_classifier\\keypoint_classifier.hdf5\n",
      "51/51 [==============================] - 0s 4ms/step - loss: 1.0722 - accuracy: 0.5897 - val_loss: 0.7874 - val_accuracy: 0.7995\n",
      "Epoch 29/1000\n"
     ]
    },
    {
     "name": "stdout",
     "output_type": "stream",
     "text": [
      "26/51 [==============>...............] - ETA: 0s - loss: 1.0641 - accuracy: 0.5968\n",
      "Epoch 29: saving model to model/keypoint_classifier\\keypoint_classifier.hdf5\n",
      "51/51 [==============================] - 0s 4ms/step - loss: 1.0684 - accuracy: 0.5920 - val_loss: 0.7684 - val_accuracy: 0.8121\n",
      "Epoch 30/1000\n",
      "46/51 [==========================>...] - ETA: 0s - loss: 1.0865 - accuracy: 0.5754\n",
      "Epoch 30: saving model to model/keypoint_classifier\\keypoint_classifier.hdf5\n",
      "51/51 [==============================] - 0s 9ms/step - loss: 1.0867 - accuracy: 0.5741 - val_loss: 0.7635 - val_accuracy: 0.8276\n",
      "Epoch 31/1000\n",
      "28/51 [===============>..............] - ETA: 0s - loss: 1.0801 - accuracy: 0.5809\n",
      "Epoch 31: saving model to model/keypoint_classifier\\keypoint_classifier.hdf5\n",
      "51/51 [==============================] - 0s 3ms/step - loss: 1.0630 - accuracy: 0.5895 - val_loss: 0.7658 - val_accuracy: 0.8047\n",
      "Epoch 32/1000\n",
      "49/51 [===========================>..] - ETA: 0s - loss: 1.0404 - accuracy: 0.6004\n",
      "Epoch 32: saving model to model/keypoint_classifier\\keypoint_classifier.hdf5\n",
      "51/51 [==============================] - 0s 4ms/step - loss: 1.0396 - accuracy: 0.6014 - val_loss: 0.7461 - val_accuracy: 0.8201\n",
      "Epoch 33/1000\n",
      "25/51 [=============>................] - ETA: 0s - loss: 1.0700 - accuracy: 0.5916\n",
      "Epoch 33: saving model to model/keypoint_classifier\\keypoint_classifier.hdf5\n",
      "51/51 [==============================] - 0s 4ms/step - loss: 1.0448 - accuracy: 0.6023 - val_loss: 0.7320 - val_accuracy: 0.8168\n",
      "Epoch 34/1000\n",
      "39/51 [=====================>........] - ETA: 0s - loss: 1.0296 - accuracy: 0.6076\n",
      "Epoch 34: saving model to model/keypoint_classifier\\keypoint_classifier.hdf5\n",
      "51/51 [==============================] - 0s 6ms/step - loss: 1.0274 - accuracy: 0.6046 - val_loss: 0.7211 - val_accuracy: 0.8346\n",
      "Epoch 35/1000\n",
      "51/51 [==============================] - ETA: 0s - loss: 1.0380 - accuracy: 0.6034\n",
      "Epoch 35: saving model to model/keypoint_classifier\\keypoint_classifier.hdf5\n",
      "51/51 [==============================] - 0s 6ms/step - loss: 1.0380 - accuracy: 0.6034 - val_loss: 0.7206 - val_accuracy: 0.8350\n",
      "Epoch 36/1000\n",
      "49/51 [===========================>..] - ETA: 0s - loss: 1.0178 - accuracy: 0.6175\n",
      "Epoch 36: saving model to model/keypoint_classifier\\keypoint_classifier.hdf5\n",
      "51/51 [==============================] - 0s 5ms/step - loss: 1.0175 - accuracy: 0.6176 - val_loss: 0.7099 - val_accuracy: 0.8196\n",
      "Epoch 37/1000\n",
      "40/51 [======================>.......] - ETA: 0s - loss: 1.0170 - accuracy: 0.6193\n",
      "Epoch 37: saving model to model/keypoint_classifier\\keypoint_classifier.hdf5\n",
      "51/51 [==============================] - 0s 8ms/step - loss: 1.0264 - accuracy: 0.6154 - val_loss: 0.6997 - val_accuracy: 0.8369\n",
      "Epoch 38/1000\n",
      "34/51 [===================>..........] - ETA: 0s - loss: 1.0247 - accuracy: 0.6117\n",
      "Epoch 38: saving model to model/keypoint_classifier\\keypoint_classifier.hdf5\n",
      "51/51 [==============================] - 0s 5ms/step - loss: 1.0205 - accuracy: 0.6126 - val_loss: 0.7104 - val_accuracy: 0.8145\n",
      "Epoch 39/1000\n",
      "28/51 [===============>..............] - ETA: 0s - loss: 1.0033 - accuracy: 0.6155\n",
      "Epoch 39: saving model to model/keypoint_classifier\\keypoint_classifier.hdf5\n",
      "51/51 [==============================] - 0s 3ms/step - loss: 1.0128 - accuracy: 0.6103 - val_loss: 0.6972 - val_accuracy: 0.8168\n",
      "Epoch 40/1000\n",
      "30/51 [================>.............] - ETA: 0s - loss: 1.0075 - accuracy: 0.6206\n",
      "Epoch 40: saving model to model/keypoint_classifier\\keypoint_classifier.hdf5\n",
      "51/51 [==============================] - 0s 3ms/step - loss: 1.0022 - accuracy: 0.6201 - val_loss: 0.6850 - val_accuracy: 0.8294\n",
      "Epoch 41/1000\n",
      "44/51 [========================>.....] - ETA: 0s - loss: 1.0113 - accuracy: 0.6143\n",
      "Epoch 41: saving model to model/keypoint_classifier\\keypoint_classifier.hdf5\n",
      "51/51 [==============================] - 0s 6ms/step - loss: 1.0127 - accuracy: 0.6162 - val_loss: 0.6817 - val_accuracy: 0.8280\n",
      "Epoch 42/1000\n",
      "47/51 [==========================>...] - ETA: 0s - loss: 0.9987 - accuracy: 0.6142\n",
      "Epoch 42: saving model to model/keypoint_classifier\\keypoint_classifier.hdf5\n",
      "51/51 [==============================] - 0s 7ms/step - loss: 0.9939 - accuracy: 0.6170 - val_loss: 0.6681 - val_accuracy: 0.8407\n",
      "Epoch 43/1000\n",
      "45/51 [=========================>....] - ETA: 0s - loss: 0.9783 - accuracy: 0.6309\n",
      "Epoch 43: saving model to model/keypoint_classifier\\keypoint_classifier.hdf5\n",
      "51/51 [==============================] - 0s 4ms/step - loss: 0.9764 - accuracy: 0.6311 - val_loss: 0.6605 - val_accuracy: 0.8435\n",
      "Epoch 44/1000\n",
      "30/51 [================>.............] - ETA: 0s - loss: 0.9793 - accuracy: 0.6237\n",
      "Epoch 44: saving model to model/keypoint_classifier\\keypoint_classifier.hdf5\n",
      "51/51 [==============================] - 0s 3ms/step - loss: 0.9792 - accuracy: 0.6258 - val_loss: 0.6571 - val_accuracy: 0.8435\n",
      "Epoch 45/1000\n",
      "25/51 [=============>................] - ETA: 0s - loss: 0.9759 - accuracy: 0.6434\n",
      "Epoch 45: saving model to model/keypoint_classifier\\keypoint_classifier.hdf5\n",
      "51/51 [==============================] - 0s 3ms/step - loss: 0.9823 - accuracy: 0.6364 - val_loss: 0.6719 - val_accuracy: 0.8243\n",
      "Epoch 46/1000\n",
      "27/51 [==============>...............] - ETA: 0s - loss: 0.9896 - accuracy: 0.6253\n",
      "Epoch 46: saving model to model/keypoint_classifier\\keypoint_classifier.hdf5\n",
      "51/51 [==============================] - 0s 3ms/step - loss: 0.9773 - accuracy: 0.6325 - val_loss: 0.6658 - val_accuracy: 0.8196\n",
      "Epoch 47/1000\n",
      "45/51 [=========================>....] - ETA: 0s - loss: 0.9708 - accuracy: 0.6340\n",
      "Epoch 47: saving model to model/keypoint_classifier\\keypoint_classifier.hdf5\n",
      "51/51 [==============================] - 0s 6ms/step - loss: 0.9694 - accuracy: 0.6349 - val_loss: 0.6481 - val_accuracy: 0.8285\n",
      "Epoch 48/1000\n",
      "24/51 [=============>................] - ETA: 0s - loss: 0.9436 - accuracy: 0.6582\n",
      "Epoch 48: saving model to model/keypoint_classifier\\keypoint_classifier.hdf5\n",
      "51/51 [==============================] - 0s 4ms/step - loss: 0.9636 - accuracy: 0.6420 - val_loss: 0.6508 - val_accuracy: 0.8266\n",
      "Epoch 49/1000\n",
      "46/51 [==========================>...] - ETA: 0s - loss: 0.9582 - accuracy: 0.6354\n",
      "Epoch 49: saving model to model/keypoint_classifier\\keypoint_classifier.hdf5\n",
      "51/51 [==============================] - 0s 9ms/step - loss: 0.9582 - accuracy: 0.6363 - val_loss: 0.6370 - val_accuracy: 0.8379\n",
      "Epoch 50/1000\n",
      "42/51 [=======================>......] - ETA: 0s - loss: 0.9603 - accuracy: 0.6421\n",
      "Epoch 50: saving model to model/keypoint_classifier\\keypoint_classifier.hdf5\n",
      "51/51 [==============================] - 0s 4ms/step - loss: 0.9662 - accuracy: 0.6405 - val_loss: 0.6425 - val_accuracy: 0.8280\n",
      "Epoch 51/1000\n",
      "43/51 [========================>.....] - ETA: 0s - loss: 0.9711 - accuracy: 0.6368\n",
      "Epoch 51: saving model to model/keypoint_classifier\\keypoint_classifier.hdf5\n",
      "51/51 [==============================] - 0s 5ms/step - loss: 0.9656 - accuracy: 0.6389 - val_loss: 0.6377 - val_accuracy: 0.8341\n",
      "Epoch 52/1000\n",
      "28/51 [===============>..............] - ETA: 0s - loss: 0.9478 - accuracy: 0.6476\n",
      "Epoch 52: saving model to model/keypoint_classifier\\keypoint_classifier.hdf5\n",
      "51/51 [==============================] - 0s 4ms/step - loss: 0.9425 - accuracy: 0.6463 - val_loss: 0.6423 - val_accuracy: 0.8103\n",
      "Epoch 53/1000\n",
      "41/51 [=======================>......] - ETA: 0s - loss: 0.9355 - accuracy: 0.6410\n",
      "Epoch 53: saving model to model/keypoint_classifier\\keypoint_classifier.hdf5\n",
      "51/51 [==============================] - 0s 7ms/step - loss: 0.9431 - accuracy: 0.6428 - val_loss: 0.6325 - val_accuracy: 0.8369\n",
      "Epoch 54/1000\n",
      "41/51 [=======================>......] - ETA: 0s - loss: 0.9340 - accuracy: 0.6542\n",
      "Epoch 54: saving model to model/keypoint_classifier\\keypoint_classifier.hdf5\n",
      "51/51 [==============================] - 0s 6ms/step - loss: 0.9395 - accuracy: 0.6495 - val_loss: 0.6377 - val_accuracy: 0.8280\n",
      "Epoch 55/1000\n",
      "45/51 [=========================>....] - ETA: 0s - loss: 0.9281 - accuracy: 0.6625\n",
      "Epoch 55: saving model to model/keypoint_classifier\\keypoint_classifier.hdf5\n",
      "51/51 [==============================] - 0s 7ms/step - loss: 0.9266 - accuracy: 0.6597 - val_loss: 0.6255 - val_accuracy: 0.8346\n",
      "Epoch 56/1000\n"
     ]
    },
    {
     "name": "stdout",
     "output_type": "stream",
     "text": [
      "42/51 [=======================>......] - ETA: 0s - loss: 0.9415 - accuracy: 0.6440\n",
      "Epoch 56: saving model to model/keypoint_classifier\\keypoint_classifier.hdf5\n",
      "51/51 [==============================] - 0s 6ms/step - loss: 0.9394 - accuracy: 0.6467 - val_loss: 0.6261 - val_accuracy: 0.8322\n",
      "Epoch 57/1000\n",
      "45/51 [=========================>....] - ETA: 0s - loss: 0.9506 - accuracy: 0.6457\n",
      "Epoch 57: saving model to model/keypoint_classifier\\keypoint_classifier.hdf5\n",
      "51/51 [==============================] - 0s 5ms/step - loss: 0.9464 - accuracy: 0.6480 - val_loss: 0.6165 - val_accuracy: 0.8523\n",
      "Epoch 58/1000\n",
      "51/51 [==============================] - ETA: 0s - loss: 0.9227 - accuracy: 0.6536\n",
      "Epoch 58: saving model to model/keypoint_classifier\\keypoint_classifier.hdf5\n",
      "51/51 [==============================] - 0s 7ms/step - loss: 0.9227 - accuracy: 0.6536 - val_loss: 0.6099 - val_accuracy: 0.8575\n",
      "Epoch 59/1000\n",
      "50/51 [============================>.] - ETA: 0s - loss: 0.9336 - accuracy: 0.6570\n",
      "Epoch 59: saving model to model/keypoint_classifier\\keypoint_classifier.hdf5\n",
      "51/51 [==============================] - 0s 6ms/step - loss: 0.9343 - accuracy: 0.6568 - val_loss: 0.6165 - val_accuracy: 0.8364\n",
      "Epoch 60/1000\n",
      "47/51 [==========================>...] - ETA: 0s - loss: 0.9214 - accuracy: 0.6586\n",
      "Epoch 60: saving model to model/keypoint_classifier\\keypoint_classifier.hdf5\n",
      "51/51 [==============================] - 0s 8ms/step - loss: 0.9188 - accuracy: 0.6600 - val_loss: 0.6056 - val_accuracy: 0.8584\n",
      "Epoch 61/1000\n",
      "41/51 [=======================>......] - ETA: 0s - loss: 0.9218 - accuracy: 0.6572\n",
      "Epoch 61: saving model to model/keypoint_classifier\\keypoint_classifier.hdf5\n",
      "51/51 [==============================] - 0s 7ms/step - loss: 0.9256 - accuracy: 0.6590 - val_loss: 0.6208 - val_accuracy: 0.8383\n",
      "Epoch 62/1000\n",
      "46/51 [==========================>...] - ETA: 0s - loss: 0.9155 - accuracy: 0.6612\n",
      "Epoch 62: saving model to model/keypoint_classifier\\keypoint_classifier.hdf5\n",
      "51/51 [==============================] - 0s 6ms/step - loss: 0.9135 - accuracy: 0.6620 - val_loss: 0.6084 - val_accuracy: 0.8453\n",
      "Epoch 63/1000\n",
      "49/51 [===========================>..] - ETA: 0s - loss: 0.9325 - accuracy: 0.6561\n",
      "Epoch 63: saving model to model/keypoint_classifier\\keypoint_classifier.hdf5\n",
      "51/51 [==============================] - 1s 11ms/step - loss: 0.9325 - accuracy: 0.6565 - val_loss: 0.6050 - val_accuracy: 0.8439\n",
      "Epoch 64/1000\n",
      "48/51 [===========================>..] - ETA: 0s - loss: 0.9318 - accuracy: 0.6569\n",
      "Epoch 64: saving model to model/keypoint_classifier\\keypoint_classifier.hdf5\n",
      "51/51 [==============================] - 0s 10ms/step - loss: 0.9322 - accuracy: 0.6562 - val_loss: 0.5964 - val_accuracy: 0.8537\n",
      "Epoch 65/1000\n",
      "49/51 [===========================>..] - ETA: 0s - loss: 0.9219 - accuracy: 0.6649\n",
      "Epoch 65: saving model to model/keypoint_classifier\\keypoint_classifier.hdf5\n",
      "51/51 [==============================] - 0s 9ms/step - loss: 0.9198 - accuracy: 0.6660 - val_loss: 0.5899 - val_accuracy: 0.8542\n",
      "Epoch 66/1000\n",
      "45/51 [=========================>....] - ETA: 0s - loss: 0.9127 - accuracy: 0.6622\n",
      "Epoch 66: saving model to model/keypoint_classifier\\keypoint_classifier.hdf5\n",
      "51/51 [==============================] - 0s 6ms/step - loss: 0.9112 - accuracy: 0.6635 - val_loss: 0.5875 - val_accuracy: 0.8556\n",
      "Epoch 67/1000\n",
      "41/51 [=======================>......] - ETA: 0s - loss: 0.9032 - accuracy: 0.6627\n",
      "Epoch 67: saving model to model/keypoint_classifier\\keypoint_classifier.hdf5\n",
      "51/51 [==============================] - 0s 4ms/step - loss: 0.9147 - accuracy: 0.6562 - val_loss: 0.5949 - val_accuracy: 0.8449\n",
      "Epoch 68/1000\n",
      "37/51 [====================>.........] - ETA: 0s - loss: 0.9164 - accuracy: 0.6592\n",
      "Epoch 68: saving model to model/keypoint_classifier\\keypoint_classifier.hdf5\n",
      "51/51 [==============================] - 0s 5ms/step - loss: 0.9147 - accuracy: 0.6600 - val_loss: 0.5850 - val_accuracy: 0.8556\n",
      "Epoch 69/1000\n",
      "34/51 [===================>..........] - ETA: 0s - loss: 0.9117 - accuracy: 0.6726\n",
      "Epoch 69: saving model to model/keypoint_classifier\\keypoint_classifier.hdf5\n",
      "51/51 [==============================] - 0s 5ms/step - loss: 0.9041 - accuracy: 0.6746 - val_loss: 0.5905 - val_accuracy: 0.8509\n",
      "Epoch 70/1000\n",
      "38/51 [=====================>........] - ETA: 0s - loss: 0.9080 - accuracy: 0.6659\n",
      "Epoch 70: saving model to model/keypoint_classifier\\keypoint_classifier.hdf5\n",
      "51/51 [==============================] - 0s 5ms/step - loss: 0.9072 - accuracy: 0.6656 - val_loss: 0.5813 - val_accuracy: 0.8547\n",
      "Epoch 71/1000\n",
      "37/51 [====================>.........] - ETA: 0s - loss: 0.9285 - accuracy: 0.6594\n",
      "Epoch 71: saving model to model/keypoint_classifier\\keypoint_classifier.hdf5\n",
      "51/51 [==============================] - 0s 5ms/step - loss: 0.9166 - accuracy: 0.6639 - val_loss: 0.5830 - val_accuracy: 0.8533\n",
      "Epoch 72/1000\n",
      "45/51 [=========================>....] - ETA: 0s - loss: 0.8995 - accuracy: 0.6703\n",
      "Epoch 72: saving model to model/keypoint_classifier\\keypoint_classifier.hdf5\n",
      "51/51 [==============================] - 0s 6ms/step - loss: 0.9035 - accuracy: 0.6682 - val_loss: 0.5825 - val_accuracy: 0.8579\n",
      "Epoch 73/1000\n",
      "39/51 [=====================>........] - ETA: 0s - loss: 0.9145 - accuracy: 0.6659\n",
      "Epoch 73: saving model to model/keypoint_classifier\\keypoint_classifier.hdf5\n",
      "51/51 [==============================] - 0s 8ms/step - loss: 0.9116 - accuracy: 0.6654 - val_loss: 0.5939 - val_accuracy: 0.8472\n",
      "Epoch 74/1000\n",
      "41/51 [=======================>......] - ETA: 0s - loss: 0.9015 - accuracy: 0.6675\n",
      "Epoch 74: saving model to model/keypoint_classifier\\keypoint_classifier.hdf5\n",
      "51/51 [==============================] - 0s 6ms/step - loss: 0.8956 - accuracy: 0.6699 - val_loss: 0.5775 - val_accuracy: 0.8579\n",
      "Epoch 75/1000\n",
      "43/51 [========================>.....] - ETA: 0s - loss: 0.8868 - accuracy: 0.6775\n",
      "Epoch 75: saving model to model/keypoint_classifier\\keypoint_classifier.hdf5\n",
      "51/51 [==============================] - 0s 6ms/step - loss: 0.8897 - accuracy: 0.6762 - val_loss: 0.5670 - val_accuracy: 0.8593\n",
      "Epoch 76/1000\n",
      "42/51 [=======================>......] - ETA: 0s - loss: 0.8917 - accuracy: 0.6778\n",
      "Epoch 76: saving model to model/keypoint_classifier\\keypoint_classifier.hdf5\n",
      "51/51 [==============================] - 0s 6ms/step - loss: 0.8889 - accuracy: 0.6796 - val_loss: 0.5788 - val_accuracy: 0.8481\n",
      "Epoch 77/1000\n",
      "44/51 [========================>.....] - ETA: 0s - loss: 0.9077 - accuracy: 0.6692\n",
      "Epoch 77: saving model to model/keypoint_classifier\\keypoint_classifier.hdf5\n",
      "51/51 [==============================] - 0s 6ms/step - loss: 0.9052 - accuracy: 0.6704 - val_loss: 0.5713 - val_accuracy: 0.8565\n",
      "Epoch 78/1000\n",
      "48/51 [===========================>..] - ETA: 0s - loss: 0.8870 - accuracy: 0.6634\n",
      "Epoch 78: saving model to model/keypoint_classifier\\keypoint_classifier.hdf5\n",
      "51/51 [==============================] - 0s 6ms/step - loss: 0.8909 - accuracy: 0.6625 - val_loss: 0.5685 - val_accuracy: 0.8551\n",
      "Epoch 79/1000\n",
      "39/51 [=====================>........] - ETA: 0s - loss: 0.8802 - accuracy: 0.6801\n",
      "Epoch 79: saving model to model/keypoint_classifier\\keypoint_classifier.hdf5\n",
      "51/51 [==============================] - 0s 5ms/step - loss: 0.8775 - accuracy: 0.6796 - val_loss: 0.5740 - val_accuracy: 0.8500\n",
      "Epoch 80/1000\n",
      "45/51 [=========================>....] - ETA: 0s - loss: 0.9000 - accuracy: 0.6687\n",
      "Epoch 80: saving model to model/keypoint_classifier\\keypoint_classifier.hdf5\n",
      "51/51 [==============================] - 0s 6ms/step - loss: 0.8976 - accuracy: 0.6701 - val_loss: 0.5841 - val_accuracy: 0.8435\n",
      "Epoch 81/1000\n",
      "45/51 [=========================>....] - ETA: 0s - loss: 0.8816 - accuracy: 0.6814\n",
      "Epoch 81: saving model to model/keypoint_classifier\\keypoint_classifier.hdf5\n",
      "51/51 [==============================] - 0s 4ms/step - loss: 0.8800 - accuracy: 0.6819 - val_loss: 0.5868 - val_accuracy: 0.8425\n",
      "Epoch 82/1000\n",
      "44/51 [========================>.....] - ETA: 0s - loss: 0.8856 - accuracy: 0.6776\n",
      "Epoch 82: saving model to model/keypoint_classifier\\keypoint_classifier.hdf5\n",
      "51/51 [==============================] - 0s 4ms/step - loss: 0.8869 - accuracy: 0.6749 - val_loss: 0.5634 - val_accuracy: 0.8593\n",
      "Epoch 83/1000\n"
     ]
    },
    {
     "name": "stdout",
     "output_type": "stream",
     "text": [
      "47/51 [==========================>...] - ETA: 0s - loss: 0.8802 - accuracy: 0.6794\n",
      "Epoch 83: saving model to model/keypoint_classifier\\keypoint_classifier.hdf5\n",
      "51/51 [==============================] - 0s 4ms/step - loss: 0.8828 - accuracy: 0.6784 - val_loss: 0.5684 - val_accuracy: 0.8547\n",
      "Epoch 84/1000\n",
      "47/51 [==========================>...] - ETA: 0s - loss: 0.8873 - accuracy: 0.6813\n",
      "Epoch 84: saving model to model/keypoint_classifier\\keypoint_classifier.hdf5\n",
      "51/51 [==============================] - 0s 4ms/step - loss: 0.8852 - accuracy: 0.6826 - val_loss: 0.5549 - val_accuracy: 0.8612\n",
      "Epoch 85/1000\n",
      "44/51 [========================>.....] - ETA: 0s - loss: 0.8633 - accuracy: 0.6850\n",
      "Epoch 85: saving model to model/keypoint_classifier\\keypoint_classifier.hdf5\n",
      "51/51 [==============================] - 0s 5ms/step - loss: 0.8677 - accuracy: 0.6840 - val_loss: 0.5612 - val_accuracy: 0.8509\n",
      "Epoch 86/1000\n",
      "51/51 [==============================] - ETA: 0s - loss: 0.8878 - accuracy: 0.6749\n",
      "Epoch 86: saving model to model/keypoint_classifier\\keypoint_classifier.hdf5\n",
      "51/51 [==============================] - 0s 5ms/step - loss: 0.8878 - accuracy: 0.6749 - val_loss: 0.5651 - val_accuracy: 0.8463\n",
      "Epoch 87/1000\n",
      "49/51 [===========================>..] - ETA: 0s - loss: 0.8957 - accuracy: 0.6724\n",
      "Epoch 87: saving model to model/keypoint_classifier\\keypoint_classifier.hdf5\n",
      "51/51 [==============================] - 0s 4ms/step - loss: 0.8969 - accuracy: 0.6717 - val_loss: 0.5550 - val_accuracy: 0.8631\n",
      "Epoch 88/1000\n",
      "32/51 [=================>............] - ETA: 0s - loss: 0.8832 - accuracy: 0.6831\n",
      "Epoch 88: saving model to model/keypoint_classifier\\keypoint_classifier.hdf5\n",
      "51/51 [==============================] - 0s 5ms/step - loss: 0.8851 - accuracy: 0.6818 - val_loss: 0.5460 - val_accuracy: 0.8617\n",
      "Epoch 89/1000\n",
      "34/51 [===================>..........] - ETA: 0s - loss: 0.8641 - accuracy: 0.6886\n",
      "Epoch 89: saving model to model/keypoint_classifier\\keypoint_classifier.hdf5\n",
      "51/51 [==============================] - 0s 7ms/step - loss: 0.8699 - accuracy: 0.6846 - val_loss: 0.5507 - val_accuracy: 0.8514\n",
      "Epoch 90/1000\n",
      "26/51 [==============>...............] - ETA: 0s - loss: 0.8542 - accuracy: 0.6911\n",
      "Epoch 90: saving model to model/keypoint_classifier\\keypoint_classifier.hdf5\n",
      "51/51 [==============================] - 0s 4ms/step - loss: 0.8725 - accuracy: 0.6841 - val_loss: 0.5465 - val_accuracy: 0.8579\n",
      "Epoch 91/1000\n",
      "45/51 [=========================>....] - ETA: 0s - loss: 0.8823 - accuracy: 0.6731\n",
      "Epoch 91: saving model to model/keypoint_classifier\\keypoint_classifier.hdf5\n",
      "51/51 [==============================] - 0s 5ms/step - loss: 0.8805 - accuracy: 0.6734 - val_loss: 0.5638 - val_accuracy: 0.8491\n",
      "Epoch 92/1000\n",
      "45/51 [=========================>....] - ETA: 0s - loss: 0.8749 - accuracy: 0.6880\n",
      "Epoch 92: saving model to model/keypoint_classifier\\keypoint_classifier.hdf5\n",
      "51/51 [==============================] - 0s 7ms/step - loss: 0.8742 - accuracy: 0.6893 - val_loss: 0.5409 - val_accuracy: 0.8664\n",
      "Epoch 93/1000\n",
      "41/51 [=======================>......] - ETA: 0s - loss: 0.8657 - accuracy: 0.6858\n",
      "Epoch 93: saving model to model/keypoint_classifier\\keypoint_classifier.hdf5\n",
      "51/51 [==============================] - 0s 8ms/step - loss: 0.8760 - accuracy: 0.6824 - val_loss: 0.5421 - val_accuracy: 0.8626\n",
      "Epoch 94/1000\n",
      "44/51 [========================>.....] - ETA: 0s - loss: 0.8728 - accuracy: 0.6818\n",
      "Epoch 94: saving model to model/keypoint_classifier\\keypoint_classifier.hdf5\n",
      "51/51 [==============================] - 0s 7ms/step - loss: 0.8721 - accuracy: 0.6843 - val_loss: 0.5442 - val_accuracy: 0.8579\n",
      "Epoch 95/1000\n",
      "32/51 [=================>............] - ETA: 0s - loss: 0.8612 - accuracy: 0.6843\n",
      "Epoch 95: saving model to model/keypoint_classifier\\keypoint_classifier.hdf5\n",
      "51/51 [==============================] - 0s 5ms/step - loss: 0.8634 - accuracy: 0.6829 - val_loss: 0.5451 - val_accuracy: 0.8579\n",
      "Epoch 96/1000\n",
      "45/51 [=========================>....] - ETA: 0s - loss: 0.8976 - accuracy: 0.6733\n",
      "Epoch 96: saving model to model/keypoint_classifier\\keypoint_classifier.hdf5\n",
      "51/51 [==============================] - 0s 4ms/step - loss: 0.8951 - accuracy: 0.6746 - val_loss: 0.5497 - val_accuracy: 0.8565\n",
      "Epoch 97/1000\n",
      "37/51 [====================>.........] - ETA: 0s - loss: 0.8469 - accuracy: 0.6919\n",
      "Epoch 97: saving model to model/keypoint_classifier\\keypoint_classifier.hdf5\n",
      "51/51 [==============================] - 0s 6ms/step - loss: 0.8515 - accuracy: 0.6880 - val_loss: 0.5407 - val_accuracy: 0.8636\n",
      "Epoch 98/1000\n",
      "39/51 [=====================>........] - ETA: 0s - loss: 0.8546 - accuracy: 0.6935\n",
      "Epoch 98: saving model to model/keypoint_classifier\\keypoint_classifier.hdf5\n",
      "51/51 [==============================] - 0s 9ms/step - loss: 0.8532 - accuracy: 0.6924 - val_loss: 0.5460 - val_accuracy: 0.8542\n",
      "Epoch 99/1000\n",
      "43/51 [========================>.....] - ETA: 0s - loss: 0.8709 - accuracy: 0.6806\n",
      "Epoch 99: saving model to model/keypoint_classifier\\keypoint_classifier.hdf5\n",
      "51/51 [==============================] - 0s 4ms/step - loss: 0.8756 - accuracy: 0.6793 - val_loss: 0.5425 - val_accuracy: 0.8556\n",
      "Epoch 100/1000\n",
      "51/51 [==============================] - ETA: 0s - loss: 0.8565 - accuracy: 0.6922\n",
      "Epoch 100: saving model to model/keypoint_classifier\\keypoint_classifier.hdf5\n",
      "51/51 [==============================] - 0s 6ms/step - loss: 0.8565 - accuracy: 0.6922 - val_loss: 0.5453 - val_accuracy: 0.8561\n",
      "Epoch 101/1000\n",
      "36/51 [====================>.........] - ETA: 0s - loss: 0.8465 - accuracy: 0.6862\n",
      "Epoch 101: saving model to model/keypoint_classifier\\keypoint_classifier.hdf5\n",
      "51/51 [==============================] - 0s 6ms/step - loss: 0.8535 - accuracy: 0.6883 - val_loss: 0.5533 - val_accuracy: 0.8500\n",
      "Epoch 102/1000\n",
      "48/51 [===========================>..] - ETA: 0s - loss: 0.8732 - accuracy: 0.6826\n",
      "Epoch 102: saving model to model/keypoint_classifier\\keypoint_classifier.hdf5\n",
      "51/51 [==============================] - 0s 8ms/step - loss: 0.8731 - accuracy: 0.6835 - val_loss: 0.5320 - val_accuracy: 0.8631\n",
      "Epoch 103/1000\n",
      "43/51 [========================>.....] - ETA: 0s - loss: 0.8625 - accuracy: 0.6924\n",
      "Epoch 103: saving model to model/keypoint_classifier\\keypoint_classifier.hdf5\n",
      "51/51 [==============================] - 0s 4ms/step - loss: 0.8661 - accuracy: 0.6897 - val_loss: 0.5504 - val_accuracy: 0.8491\n",
      "Epoch 104/1000\n",
      "42/51 [=======================>......] - ETA: 0s - loss: 0.8789 - accuracy: 0.6806\n",
      "Epoch 104: saving model to model/keypoint_classifier\\keypoint_classifier.hdf5\n",
      "51/51 [==============================] - 0s 6ms/step - loss: 0.8688 - accuracy: 0.6823 - val_loss: 0.5460 - val_accuracy: 0.8584\n",
      "Epoch 105/1000\n",
      "34/51 [===================>..........] - ETA: 0s - loss: 0.8575 - accuracy: 0.6898\n",
      "Epoch 105: saving model to model/keypoint_classifier\\keypoint_classifier.hdf5\n",
      "51/51 [==============================] - 0s 5ms/step - loss: 0.8586 - accuracy: 0.6869 - val_loss: 0.5502 - val_accuracy: 0.8467\n",
      "Epoch 106/1000\n",
      "51/51 [==============================] - ETA: 0s - loss: 0.8718 - accuracy: 0.6883\n",
      "Epoch 106: saving model to model/keypoint_classifier\\keypoint_classifier.hdf5\n",
      "51/51 [==============================] - 0s 5ms/step - loss: 0.8718 - accuracy: 0.6883 - val_loss: 0.5464 - val_accuracy: 0.8579\n",
      "Epoch 107/1000\n",
      "48/51 [===========================>..] - ETA: 0s - loss: 0.8712 - accuracy: 0.6810\n",
      "Epoch 107: saving model to model/keypoint_classifier\\keypoint_classifier.hdf5\n",
      "51/51 [==============================] - 0s 4ms/step - loss: 0.8684 - accuracy: 0.6805 - val_loss: 0.5475 - val_accuracy: 0.8551\n",
      "Epoch 108/1000\n",
      "44/51 [========================>.....] - ETA: 0s - loss: 0.8782 - accuracy: 0.6832\n",
      "Epoch 108: saving model to model/keypoint_classifier\\keypoint_classifier.hdf5\n",
      "51/51 [==============================] - 0s 4ms/step - loss: 0.8752 - accuracy: 0.6827 - val_loss: 0.5335 - val_accuracy: 0.8720\n",
      "Epoch 109/1000\n",
      "49/51 [===========================>..] - ETA: 0s - loss: 0.8443 - accuracy: 0.6894\n",
      "Epoch 109: saving model to model/keypoint_classifier\\keypoint_classifier.hdf5\n",
      "51/51 [==============================] - 0s 4ms/step - loss: 0.8453 - accuracy: 0.6891 - val_loss: 0.5397 - val_accuracy: 0.8636\n",
      "Epoch 110/1000\n"
     ]
    },
    {
     "name": "stdout",
     "output_type": "stream",
     "text": [
      "46/51 [==========================>...] - ETA: 0s - loss: 0.8463 - accuracy: 0.6948\n",
      "Epoch 110: saving model to model/keypoint_classifier\\keypoint_classifier.hdf5\n",
      "51/51 [==============================] - 0s 4ms/step - loss: 0.8478 - accuracy: 0.6946 - val_loss: 0.5440 - val_accuracy: 0.8514\n",
      "Epoch 111/1000\n",
      "46/51 [==========================>...] - ETA: 0s - loss: 0.8502 - accuracy: 0.6892\n",
      "Epoch 111: saving model to model/keypoint_classifier\\keypoint_classifier.hdf5\n",
      "51/51 [==============================] - 0s 4ms/step - loss: 0.8549 - accuracy: 0.6883 - val_loss: 0.5352 - val_accuracy: 0.8575\n",
      "Epoch 112/1000\n",
      "47/51 [==========================>...] - ETA: 0s - loss: 0.8530 - accuracy: 0.6970\n",
      "Epoch 112: saving model to model/keypoint_classifier\\keypoint_classifier.hdf5\n",
      "51/51 [==============================] - 0s 4ms/step - loss: 0.8572 - accuracy: 0.6963 - val_loss: 0.5296 - val_accuracy: 0.8631\n",
      "Epoch 113/1000\n",
      "51/51 [==============================] - ETA: 0s - loss: 0.8516 - accuracy: 0.6928\n",
      "Epoch 113: saving model to model/keypoint_classifier\\keypoint_classifier.hdf5\n",
      "51/51 [==============================] - 0s 4ms/step - loss: 0.8516 - accuracy: 0.6928 - val_loss: 0.5451 - val_accuracy: 0.8561\n",
      "Epoch 114/1000\n",
      "42/51 [=======================>......] - ETA: 0s - loss: 0.8575 - accuracy: 0.6951\n",
      "Epoch 114: saving model to model/keypoint_classifier\\keypoint_classifier.hdf5\n",
      "51/51 [==============================] - 0s 4ms/step - loss: 0.8549 - accuracy: 0.6952 - val_loss: 0.5298 - val_accuracy: 0.8617\n",
      "Epoch 115/1000\n",
      "33/51 [==================>...........] - ETA: 0s - loss: 0.8484 - accuracy: 0.6977\n",
      "Epoch 115: saving model to model/keypoint_classifier\\keypoint_classifier.hdf5\n",
      "51/51 [==============================] - 0s 5ms/step - loss: 0.8682 - accuracy: 0.6886 - val_loss: 0.5379 - val_accuracy: 0.8565\n",
      "Epoch 116/1000\n",
      "43/51 [========================>.....] - ETA: 0s - loss: 0.8582 - accuracy: 0.6931\n",
      "Epoch 116: saving model to model/keypoint_classifier\\keypoint_classifier.hdf5\n",
      "51/51 [==============================] - 0s 5ms/step - loss: 0.8624 - accuracy: 0.6902 - val_loss: 0.5349 - val_accuracy: 0.8607\n",
      "Epoch 117/1000\n",
      "43/51 [========================>.....] - ETA: 0s - loss: 0.8374 - accuracy: 0.6931\n",
      "Epoch 117: saving model to model/keypoint_classifier\\keypoint_classifier.hdf5\n",
      "51/51 [==============================] - 0s 5ms/step - loss: 0.8448 - accuracy: 0.6921 - val_loss: 0.5224 - val_accuracy: 0.8659\n",
      "Epoch 118/1000\n",
      "50/51 [============================>.] - ETA: 0s - loss: 0.8692 - accuracy: 0.6872\n",
      "Epoch 118: saving model to model/keypoint_classifier\\keypoint_classifier.hdf5\n",
      "51/51 [==============================] - 0s 5ms/step - loss: 0.8687 - accuracy: 0.6872 - val_loss: 0.5327 - val_accuracy: 0.8593\n",
      "Epoch 119/1000\n",
      "37/51 [====================>.........] - ETA: 0s - loss: 0.8424 - accuracy: 0.6902\n",
      "Epoch 119: saving model to model/keypoint_classifier\\keypoint_classifier.hdf5\n",
      "51/51 [==============================] - 0s 5ms/step - loss: 0.8297 - accuracy: 0.6975 - val_loss: 0.5318 - val_accuracy: 0.8621\n",
      "Epoch 120/1000\n",
      "34/51 [===================>..........] - ETA: 0s - loss: 0.8608 - accuracy: 0.6861\n",
      "Epoch 120: saving model to model/keypoint_classifier\\keypoint_classifier.hdf5\n",
      "51/51 [==============================] - 0s 5ms/step - loss: 0.8581 - accuracy: 0.6838 - val_loss: 0.5315 - val_accuracy: 0.8631\n",
      "Epoch 121/1000\n",
      "50/51 [============================>.] - ETA: 0s - loss: 0.8302 - accuracy: 0.6948\n",
      "Epoch 121: saving model to model/keypoint_classifier\\keypoint_classifier.hdf5\n",
      "51/51 [==============================] - 0s 4ms/step - loss: 0.8307 - accuracy: 0.6944 - val_loss: 0.5338 - val_accuracy: 0.8523\n",
      "Epoch 122/1000\n",
      "46/51 [==========================>...] - ETA: 0s - loss: 0.8648 - accuracy: 0.6887\n",
      "Epoch 122: saving model to model/keypoint_classifier\\keypoint_classifier.hdf5\n",
      "51/51 [==============================] - 0s 4ms/step - loss: 0.8721 - accuracy: 0.6863 - val_loss: 0.5303 - val_accuracy: 0.8570\n",
      "Epoch 123/1000\n",
      "51/51 [==============================] - ETA: 0s - loss: 0.8606 - accuracy: 0.6905\n",
      "Epoch 123: saving model to model/keypoint_classifier\\keypoint_classifier.hdf5\n",
      "51/51 [==============================] - 0s 4ms/step - loss: 0.8606 - accuracy: 0.6905 - val_loss: 0.5444 - val_accuracy: 0.8449\n",
      "Epoch 124/1000\n",
      "48/51 [===========================>..] - ETA: 0s - loss: 0.8475 - accuracy: 0.6932\n",
      "Epoch 124: saving model to model/keypoint_classifier\\keypoint_classifier.hdf5\n",
      "51/51 [==============================] - 0s 4ms/step - loss: 0.8505 - accuracy: 0.6924 - val_loss: 0.5200 - val_accuracy: 0.8650\n",
      "Epoch 125/1000\n",
      "46/51 [==========================>...] - ETA: 0s - loss: 0.8402 - accuracy: 0.6958\n",
      "Epoch 125: saving model to model/keypoint_classifier\\keypoint_classifier.hdf5\n",
      "51/51 [==============================] - 0s 4ms/step - loss: 0.8402 - accuracy: 0.6969 - val_loss: 0.5236 - val_accuracy: 0.8603\n",
      "Epoch 126/1000\n",
      "46/51 [==========================>...] - ETA: 0s - loss: 0.8478 - accuracy: 0.6979\n",
      "Epoch 126: saving model to model/keypoint_classifier\\keypoint_classifier.hdf5\n",
      "51/51 [==============================] - 0s 4ms/step - loss: 0.8485 - accuracy: 0.6957 - val_loss: 0.5280 - val_accuracy: 0.8570\n",
      "Epoch 127/1000\n",
      "33/51 [==================>...........] - ETA: 0s - loss: 0.8409 - accuracy: 0.6953\n",
      "Epoch 127: saving model to model/keypoint_classifier\\keypoint_classifier.hdf5\n",
      "51/51 [==============================] - 0s 6ms/step - loss: 0.8416 - accuracy: 0.6983 - val_loss: 0.5305 - val_accuracy: 0.8509\n",
      "Epoch 128/1000\n",
      "46/51 [==========================>...] - ETA: 0s - loss: 0.8594 - accuracy: 0.6882\n",
      "Epoch 128: saving model to model/keypoint_classifier\\keypoint_classifier.hdf5\n",
      "51/51 [==============================] - 0s 4ms/step - loss: 0.8574 - accuracy: 0.6879 - val_loss: 0.5269 - val_accuracy: 0.8589\n",
      "Epoch 129/1000\n",
      "48/51 [===========================>..] - ETA: 0s - loss: 0.8592 - accuracy: 0.6882\n",
      "Epoch 129: saving model to model/keypoint_classifier\\keypoint_classifier.hdf5\n",
      "51/51 [==============================] - 0s 4ms/step - loss: 0.8586 - accuracy: 0.6886 - val_loss: 0.5336 - val_accuracy: 0.8537\n",
      "Epoch 130/1000\n",
      "49/51 [===========================>..] - ETA: 0s - loss: 0.8370 - accuracy: 0.6996\n",
      "Epoch 130: saving model to model/keypoint_classifier\\keypoint_classifier.hdf5\n",
      "51/51 [==============================] - 0s 4ms/step - loss: 0.8375 - accuracy: 0.6989 - val_loss: 0.5271 - val_accuracy: 0.8565\n",
      "Epoch 131/1000\n",
      "48/51 [===========================>..] - ETA: 0s - loss: 0.8725 - accuracy: 0.6890\n",
      "Epoch 131: saving model to model/keypoint_classifier\\keypoint_classifier.hdf5\n",
      "51/51 [==============================] - 0s 4ms/step - loss: 0.8753 - accuracy: 0.6893 - val_loss: 0.5415 - val_accuracy: 0.8523\n",
      "Epoch 132/1000\n",
      "45/51 [=========================>....] - ETA: 0s - loss: 0.8368 - accuracy: 0.6984\n",
      "Epoch 132: saving model to model/keypoint_classifier\\keypoint_classifier.hdf5\n",
      "51/51 [==============================] - 0s 4ms/step - loss: 0.8380 - accuracy: 0.6980 - val_loss: 0.5078 - val_accuracy: 0.8715\n",
      "Epoch 133/1000\n",
      "47/51 [==========================>...] - ETA: 0s - loss: 0.8489 - accuracy: 0.6882\n",
      "Epoch 133: saving model to model/keypoint_classifier\\keypoint_classifier.hdf5\n",
      "51/51 [==============================] - 0s 4ms/step - loss: 0.8441 - accuracy: 0.6902 - val_loss: 0.5300 - val_accuracy: 0.8509\n",
      "Epoch 134/1000\n",
      "49/51 [===========================>..] - ETA: 0s - loss: 0.8454 - accuracy: 0.7018\n",
      "Epoch 134: saving model to model/keypoint_classifier\\keypoint_classifier.hdf5\n",
      "51/51 [==============================] - 0s 4ms/step - loss: 0.8456 - accuracy: 0.7008 - val_loss: 0.5309 - val_accuracy: 0.8533\n",
      "Epoch 135/1000\n",
      "46/51 [==========================>...] - ETA: 0s - loss: 0.8570 - accuracy: 0.6916\n",
      "Epoch 135: saving model to model/keypoint_classifier\\keypoint_classifier.hdf5\n",
      "51/51 [==============================] - 0s 6ms/step - loss: 0.8545 - accuracy: 0.6928 - val_loss: 0.5217 - val_accuracy: 0.8556\n",
      "Epoch 136/1000\n",
      "48/51 [===========================>..] - ETA: 0s - loss: 0.8653 - accuracy: 0.6851\n",
      "Epoch 136: saving model to model/keypoint_classifier\\keypoint_classifier.hdf5\n",
      "51/51 [==============================] - 0s 7ms/step - loss: 0.8637 - accuracy: 0.6860 - val_loss: 0.5399 - val_accuracy: 0.8481\n"
     ]
    },
    {
     "name": "stdout",
     "output_type": "stream",
     "text": [
      "Epoch 137/1000\n",
      "42/51 [=======================>......] - ETA: 0s - loss: 0.8420 - accuracy: 0.6884\n",
      "Epoch 137: saving model to model/keypoint_classifier\\keypoint_classifier.hdf5\n",
      "51/51 [==============================] - 0s 6ms/step - loss: 0.8442 - accuracy: 0.6860 - val_loss: 0.5363 - val_accuracy: 0.8505\n",
      "Epoch 138/1000\n",
      "50/51 [============================>.] - ETA: 0s - loss: 0.8488 - accuracy: 0.6920\n",
      "Epoch 138: saving model to model/keypoint_classifier\\keypoint_classifier.hdf5\n",
      "51/51 [==============================] - 1s 10ms/step - loss: 0.8484 - accuracy: 0.6924 - val_loss: 0.5125 - val_accuracy: 0.8612\n",
      "Epoch 139/1000\n",
      "36/51 [====================>.........] - ETA: 0s - loss: 0.8189 - accuracy: 0.7105\n",
      "Epoch 139: saving model to model/keypoint_classifier\\keypoint_classifier.hdf5\n",
      "51/51 [==============================] - 0s 7ms/step - loss: 0.8183 - accuracy: 0.7091 - val_loss: 0.5140 - val_accuracy: 0.8565\n",
      "Epoch 140/1000\n",
      "51/51 [==============================] - ETA: 0s - loss: 0.8397 - accuracy: 0.6957\n",
      "Epoch 140: saving model to model/keypoint_classifier\\keypoint_classifier.hdf5\n",
      "51/51 [==============================] - 0s 9ms/step - loss: 0.8397 - accuracy: 0.6957 - val_loss: 0.5202 - val_accuracy: 0.8636\n",
      "Epoch 141/1000\n",
      "46/51 [==========================>...] - ETA: 0s - loss: 0.8385 - accuracy: 0.7031\n",
      "Epoch 141: saving model to model/keypoint_classifier\\keypoint_classifier.hdf5\n",
      "51/51 [==============================] - 0s 5ms/step - loss: 0.8356 - accuracy: 0.7041 - val_loss: 0.5217 - val_accuracy: 0.8701\n",
      "Epoch 142/1000\n",
      "37/51 [====================>.........] - ETA: 0s - loss: 0.8523 - accuracy: 0.6907\n",
      "Epoch 142: saving model to model/keypoint_classifier\\keypoint_classifier.hdf5\n",
      "51/51 [==============================] - 0s 5ms/step - loss: 0.8500 - accuracy: 0.6911 - val_loss: 0.5257 - val_accuracy: 0.8589\n",
      "Epoch 143/1000\n",
      "38/51 [=====================>........] - ETA: 0s - loss: 0.8361 - accuracy: 0.7031\n",
      "Epoch 143: saving model to model/keypoint_classifier\\keypoint_classifier.hdf5\n",
      "51/51 [==============================] - 0s 4ms/step - loss: 0.8323 - accuracy: 0.7010 - val_loss: 0.5253 - val_accuracy: 0.8678\n",
      "Epoch 144/1000\n",
      "43/51 [========================>.....] - ETA: 0s - loss: 0.8462 - accuracy: 0.6931\n",
      "Epoch 144: saving model to model/keypoint_classifier\\keypoint_classifier.hdf5\n",
      "51/51 [==============================] - 0s 4ms/step - loss: 0.8501 - accuracy: 0.6933 - val_loss: 0.5222 - val_accuracy: 0.8584\n",
      "Epoch 145/1000\n",
      "38/51 [=====================>........] - ETA: 0s - loss: 0.8125 - accuracy: 0.7087\n",
      "Epoch 145: saving model to model/keypoint_classifier\\keypoint_classifier.hdf5\n",
      "51/51 [==============================] - 0s 5ms/step - loss: 0.8201 - accuracy: 0.7066 - val_loss: 0.5212 - val_accuracy: 0.8612\n",
      "Epoch 146/1000\n",
      "30/51 [================>.............] - ETA: 0s - loss: 0.8515 - accuracy: 0.6997\n",
      "Epoch 146: saving model to model/keypoint_classifier\\keypoint_classifier.hdf5\n",
      "51/51 [==============================] - 0s 5ms/step - loss: 0.8495 - accuracy: 0.6969 - val_loss: 0.5130 - val_accuracy: 0.8720\n",
      "Epoch 147/1000\n",
      "42/51 [=======================>......] - ETA: 0s - loss: 0.8461 - accuracy: 0.7024\n",
      "Epoch 147: saving model to model/keypoint_classifier\\keypoint_classifier.hdf5\n",
      "51/51 [==============================] - 0s 4ms/step - loss: 0.8428 - accuracy: 0.7013 - val_loss: 0.5219 - val_accuracy: 0.8542\n",
      "Epoch 148/1000\n",
      "42/51 [=======================>......] - ETA: 0s - loss: 0.8327 - accuracy: 0.6992\n",
      "Epoch 148: saving model to model/keypoint_classifier\\keypoint_classifier.hdf5\n",
      "51/51 [==============================] - 0s 5ms/step - loss: 0.8301 - accuracy: 0.7030 - val_loss: 0.5175 - val_accuracy: 0.8575\n",
      "Epoch 149/1000\n",
      "29/51 [================>.............] - ETA: 0s - loss: 0.8401 - accuracy: 0.6975\n",
      "Epoch 149: saving model to model/keypoint_classifier\\keypoint_classifier.hdf5\n",
      "51/51 [==============================] - 0s 5ms/step - loss: 0.8362 - accuracy: 0.7024 - val_loss: 0.5167 - val_accuracy: 0.8547\n",
      "Epoch 150/1000\n",
      "33/51 [==================>...........] - ETA: 0s - loss: 0.8377 - accuracy: 0.6977\n",
      "Epoch 150: saving model to model/keypoint_classifier\\keypoint_classifier.hdf5\n",
      "51/51 [==============================] - 0s 5ms/step - loss: 0.8344 - accuracy: 0.7010 - val_loss: 0.5150 - val_accuracy: 0.8668\n",
      "Epoch 151/1000\n",
      "43/51 [========================>.....] - ETA: 0s - loss: 0.8380 - accuracy: 0.7037\n",
      "Epoch 151: saving model to model/keypoint_classifier\\keypoint_classifier.hdf5\n",
      "51/51 [==============================] - 0s 5ms/step - loss: 0.8365 - accuracy: 0.7047 - val_loss: 0.5199 - val_accuracy: 0.8607\n",
      "Epoch 152/1000\n",
      "34/51 [===================>..........] - ETA: 0s - loss: 0.8409 - accuracy: 0.7020\n",
      "Epoch 152: saving model to model/keypoint_classifier\\keypoint_classifier.hdf5\n",
      "51/51 [==============================] - 0s 5ms/step - loss: 0.8497 - accuracy: 0.6946 - val_loss: 0.5139 - val_accuracy: 0.8631\n",
      "Epoch 152: early stopping\n"
     ]
    },
    {
     "data": {
      "text/plain": [
       "<keras.src.callbacks.History at 0x1e1cabf4d90>"
      ]
     },
     "execution_count": 71,
     "metadata": {},
     "output_type": "execute_result"
    }
   ],
   "source": [
    "model.fit(\n",
    "    X_train,\n",
    "    y_train,\n",
    "    epochs=1000,\n",
    "    batch_size=128,\n",
    "    validation_data=(X_test, y_test),\n",
    "    callbacks=[cp_callback, es_callback]\n",
    ")"
   ]
  },
  {
   "cell_type": "code",
   "execution_count": 72,
   "metadata": {
    "colab": {
     "base_uri": "https://localhost:8080/"
    },
    "id": "pxvb2Y299hE3",
    "outputId": "59eb3185-2e37-4b9e-bc9d-ab1b8ac29b7f"
   },
   "outputs": [
    {
     "name": "stdout",
     "output_type": "stream",
     "text": [
      "17/17 [==============================] - 0s 2ms/step - loss: 0.5139 - accuracy: 0.8631\n"
     ]
    }
   ],
   "source": [
    "# Model evaluation\n",
    "val_loss, val_acc = model.evaluate(X_test, y_test, batch_size=128)"
   ]
  },
  {
   "cell_type": "code",
   "execution_count": 73,
   "metadata": {
    "id": "RBkmDeUW9hE4"
   },
   "outputs": [],
   "source": [
    "# Loading the saved model\n",
    "model = tf.keras.models.load_model(model_save_path)"
   ]
  },
  {
   "cell_type": "code",
   "execution_count": 74,
   "metadata": {
    "colab": {
     "base_uri": "https://localhost:8080/"
    },
    "id": "tFz9Tb0I9hE4",
    "outputId": "1c3b3528-54ae-4ee2-ab04-77429211cbef"
   },
   "outputs": [
    {
     "name": "stdout",
     "output_type": "stream",
     "text": [
      "1/1 [==============================] - 0s 117ms/step\n",
      "[6.6643208e-02 1.3554154e-01 8.0331177e-02 2.9439599e-07 8.2272050e-11\n",
      " 5.0119114e-01 6.8523713e-07 2.1628861e-01 3.2656740e-06]\n",
      "5\n"
     ]
    }
   ],
   "source": [
    "# Inference test\n",
    "predict_result = model.predict(np.array([X_test[0]]))\n",
    "print(np.squeeze(predict_result))\n",
    "print(np.argmax(np.squeeze(predict_result)))"
   ]
  },
  {
   "cell_type": "markdown",
   "metadata": {
    "id": "S3U4yNWx9hE4"
   },
   "source": [
    "# Confusion matrix"
   ]
  },
  {
   "cell_type": "code",
   "execution_count": 75,
   "metadata": {
    "colab": {
     "base_uri": "https://localhost:8080/",
     "height": 582
    },
    "id": "AP1V6SCk9hE5",
    "outputId": "08e41a80-7a4a-4619-8125-ecc371368d19"
   },
   "outputs": [
    {
     "name": "stdout",
     "output_type": "stream",
     "text": [
      "67/67 [==============================] - 0s 5ms/step\n"
     ]
    },
    {
     "data": {
      "image/png": "[encoded data removed]",
      "text/plain": [
       "<Figure size 700x600 with 2 Axes>"
      ]
     },
     "metadata": {},
     "output_type": "display_data"
    },
    {
     "name": "stdout",
     "output_type": "stream",
     "text": [
      "Classification Report\n",
      "              precision    recall  f1-score   support\n",
      "\n",
      "           0       0.91      0.93      0.92       415\n",
      "           1       0.94      0.80      0.86       391\n",
      "           2       0.78      0.97      0.86       511\n",
      "           3       0.81      0.97      0.89        79\n",
      "           4       0.00      0.00      0.00         1\n",
      "           5       0.80      0.70      0.75       406\n",
      "           7       1.00      0.84      0.91       237\n",
      "           8       0.94      0.92      0.93       100\n",
      "\n",
      "    accuracy                           0.86      2140\n",
      "   macro avg       0.77      0.77      0.77      2140\n",
      "weighted avg       0.87      0.86      0.86      2140\n",
      "\n"
     ]
    },
    {
     "name": "stderr",
     "output_type": "stream",
     "text": [
      "C:\\Users\\ongxu\\anaconda3\\Lib\\site-packages\\sklearn\\metrics\\_classification.py:1469: UndefinedMetricWarning: Precision and F-score are ill-defined and being set to 0.0 in labels with no predicted samples. Use `zero_division` parameter to control this behavior.\n",
      "  _warn_prf(average, modifier, msg_start, len(result))\n",
      "C:\\Users\\ongxu\\anaconda3\\Lib\\site-packages\\sklearn\\metrics\\_classification.py:1469: UndefinedMetricWarning: Precision and F-score are ill-defined and being set to 0.0 in labels with no predicted samples. Use `zero_division` parameter to control this behavior.\n",
      "  _warn_prf(average, modifier, msg_start, len(result))\n",
      "C:\\Users\\ongxu\\anaconda3\\Lib\\site-packages\\sklearn\\metrics\\_classification.py:1469: UndefinedMetricWarning: Precision and F-score are ill-defined and being set to 0.0 in labels with no predicted samples. Use `zero_division` parameter to control this behavior.\n",
      "  _warn_prf(average, modifier, msg_start, len(result))\n"
     ]
    }
   ],
   "source": [
    "import pandas as pd\n",
    "import seaborn as sns\n",
    "import matplotlib.pyplot as plt\n",
    "from sklearn.metrics import confusion_matrix, classification_report\n",
    "\n",
    "def print_confusion_matrix(y_true, y_pred, report=True):\n",
    "    labels = sorted(list(set(y_true)))\n",
    "    cmx_data = confusion_matrix(y_true, y_pred, labels=labels)\n",
    "    \n",
    "    df_cmx = pd.DataFrame(cmx_data, index=labels, columns=labels)\n",
    " \n",
    "    fig, ax = plt.subplots(figsize=(7, 6))\n",
    "    sns.heatmap(df_cmx, annot=True, fmt='g' ,square=False)\n",
    "    ax.set_ylim(len(set(y_true)), 0)\n",
    "    plt.show()\n",
    "    \n",
    "    if report:\n",
    "        print('Classification Report')\n",
    "        print(classification_report(y_test, y_pred))\n",
    "\n",
    "Y_pred = model.predict(X_test)\n",
    "y_pred = np.argmax(Y_pred, axis=1)\n",
    "\n",
    "print_confusion_matrix(y_test, y_pred)"
   ]
  },
  {
   "cell_type": "markdown",
   "metadata": {
    "id": "FNP6aqzc9hE5"
   },
   "source": [
    "# Convert to model for Tensorflow-Lite"
   ]
  },
  {
   "cell_type": "code",
   "execution_count": 76,
   "metadata": {
    "id": "ODjnYyld9hE6"
   },
   "outputs": [
    {
     "name": "stderr",
     "output_type": "stream",
     "text": [
      "C:\\Users\\ongxu\\AppData\\Roaming\\Python\\Python311\\site-packages\\keras\\src\\engine\\training.py:3103: UserWarning: You are saving your model as an HDF5 file via `model.save()`. This file format is considered legacy. We recommend using instead the native Keras format, e.g. `model.save('my_model.keras')`.\n",
      "  saving_api.save_model(\n"
     ]
    }
   ],
   "source": [
    "# Save as a model dedicated to inference\n",
    "model.save(model_save_path, include_optimizer=False)"
   ]
  },
  {
   "cell_type": "code",
   "execution_count": 77,
   "metadata": {
    "colab": {
     "base_uri": "https://localhost:8080/"
    },
    "id": "zRfuK8Y59hE6",
    "outputId": "a4ca585c-b5d5-4244-8291-8674063209bb"
   },
   "outputs": [
    {
     "name": "stdout",
     "output_type": "stream",
     "text": [
      "INFO:tensorflow:Assets written to: C:\\Users\\ongxu\\AppData\\Local\\Temp\\tmp42a2xrv6\\assets\n"
     ]
    },
    {
     "name": "stderr",
     "output_type": "stream",
     "text": [
      "INFO:tensorflow:Assets written to: C:\\Users\\ongxu\\AppData\\Local\\Temp\\tmp42a2xrv6\\assets\n"
     ]
    },
    {
     "data": {
      "text/plain": [
       "6816"
      ]
     },
     "execution_count": 77,
     "metadata": {},
     "output_type": "execute_result"
    }
   ],
   "source": [
    "# Transform model (quantization)\n",
    "\n",
    "converter = tf.lite.TFLiteConverter.from_keras_model(model)\n",
    "converter.optimizations = [tf.lite.Optimize.DEFAULT]\n",
    "tflite_quantized_model = converter.convert()\n",
    "\n",
    "open(tflite_save_path, 'wb').write(tflite_quantized_model)"
   ]
  },
  {
   "cell_type": "markdown",
   "metadata": {
    "id": "CHBPBXdx9hE6"
   },
   "source": [
    "# Inference test"
   ]
  },
  {
   "cell_type": "code",
   "execution_count": 78,
   "metadata": {
    "id": "mGAzLocO9hE7"
   },
   "outputs": [],
   "source": [
    "interpreter = tf.lite.Interpreter(model_path=tflite_save_path)\n",
    "interpreter.allocate_tensors()"
   ]
  },
  {
   "cell_type": "code",
   "execution_count": 79,
   "metadata": {
    "id": "oQuDK8YS9hE7"
   },
   "outputs": [],
   "source": [
    "# Get I / O tensor\n",
    "input_details = interpreter.get_input_details()\n",
    "output_details = interpreter.get_output_details()"
   ]
  },
  {
   "cell_type": "code",
   "execution_count": 80,
   "metadata": {
    "id": "2_ixAf_l9hE7"
   },
   "outputs": [],
   "source": [
    "interpreter.set_tensor(input_details[0]['index'], np.array([X_test[0]]))"
   ]
  },
  {
   "cell_type": "code",
   "execution_count": 81,
   "metadata": {
    "colab": {
     "base_uri": "https://localhost:8080/"
    },
    "id": "s4FoAnuc9hE7",
    "outputId": "91f18257-8d8b-4ef3-c558-e9b5f94fabbf",
    "scrolled": true
   },
   "outputs": [
    {
     "name": "stdout",
     "output_type": "stream",
     "text": [
      "CPU times: total: 0 ns\n",
      "Wall time: 998 µs\n"
     ]
    }
   ],
   "source": [
    "%%time\n",
    "# Inference implementation\n",
    "interpreter.invoke()\n",
    "tflite_results = interpreter.get_tensor(output_details[0]['index'])"
   ]
  },
  {
   "cell_type": "code",
   "execution_count": 82,
   "metadata": {
    "colab": {
     "base_uri": "https://localhost:8080/"
    },
    "id": "vONjp19J9hE8",
    "outputId": "77205e24-fd00-42c4-f7b6-e06e527c2cba"
   },
   "outputs": [
    {
     "name": "stdout",
     "output_type": "stream",
     "text": [
      "[6.6643223e-02 1.3554162e-01 8.0331109e-02 2.9439542e-07 8.2271891e-11\n",
      " 5.0119114e-01 6.8523707e-07 2.1628866e-01 3.2656740e-06]\n",
      "5\n"
     ]
    }
   ],
   "source": [
    "print(np.squeeze(tflite_results))\n",
    "print(np.argmax(np.squeeze(tflite_results)))"
   ]
  },
  {
   "cell_type": "code",
   "execution_count": null,
   "metadata": {},
   "outputs": [],
   "source": []
  },
  {
   "cell_type": "code",
   "execution_count": null,
   "metadata": {},
   "outputs": [],
   "source": []
  },
  {
   "cell_type": "code",
   "execution_count": null,
   "metadata": {},
   "outputs": [],
   "source": []
  },
  {
   "cell_type": "code",
   "execution_count": null,
   "metadata": {},
   "outputs": [],
   "source": []
  },
  {
   "cell_type": "code",
   "execution_count": null,
   "metadata": {},
   "outputs": [],
   "source": []
  }
 ],
 "metadata": {
  "accelerator": "GPU",
  "colab": {
   "collapsed_sections": [],
   "name": "keypoint_classification_EN.ipynb",
   "provenance": [],
   "toc_visible": true
  },
  "kernelspec": {
   "display_name": "Python 3 (ipykernel)",
   "language": "python",
   "name": "python3"
  },
  "language_info": {
   "codemirror_mode": {
    "name": "ipython",
    "version": 3
   },
   "file_extension": ".py",
   "mimetype": "text/x-python",
   "name": "python",
   "nbconvert_exporter": "python",
   "pygments_lexer": "ipython3",
   "version": "3.11.5"
  }
 },
 "nbformat": 4,
 "nbformat_minor": 1
}
