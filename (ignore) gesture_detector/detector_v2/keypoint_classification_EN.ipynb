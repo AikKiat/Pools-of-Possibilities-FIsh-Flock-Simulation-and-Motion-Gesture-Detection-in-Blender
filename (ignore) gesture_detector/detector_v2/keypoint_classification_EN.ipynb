{
  "cells": [
    {
      "cell_type": "code",
      "execution_count": 29,
      "metadata": {
        "id": "igMyGnjE9hEp"
      },
      "outputs": [],
      "source": [
        "import csv\n",
        "\n",
        "import numpy as np\n",
        "import tensorflow as tf\n",
        "from sklearn.model_selection import train_test_split\n",
        "\n",
        "RANDOM_SEED = 42"
      ]
    },
    {
      "cell_type": "markdown",
      "metadata": {
        "id": "t2HDvhIu9hEr"
      },
      "source": [
        "# Specify each path"
      ]
    },
    {
      "cell_type": "code",
      "execution_count": 30,
      "metadata": {
        "id": "9NvZP2Zn9hEy"
      },
      "outputs": [],
      "source": [
        "dataset = 'model/keypoint_classifier/keypoint.csv'\n",
        "model_save_path = 'model/keypoint_classifier/keypoint_classifier.hdf5'\n",
        "tflite_save_path = 'model/keypoint_classifier/keypoint_classifier.tflite'"
      ]
    },
    {
      "cell_type": "markdown",
      "metadata": {
        "id": "s5oMH7x19hEz"
      },
      "source": [
        "# Set number of classes"
      ]
    },
    {
      "cell_type": "code",
      "execution_count": 31,
      "metadata": {
        "id": "du4kodXL9hEz"
      },
      "outputs": [],
      "source": [
        "NUM_CLASSES = 6"
      ]
    },
    {
      "cell_type": "markdown",
      "metadata": {
        "id": "XjnL0uso9hEz"
      },
      "source": [
        "# Dataset reading"
      ]
    },
    {
      "cell_type": "code",
      "execution_count": 32,
      "metadata": {
        "id": "QT5ZqtEz9hE0"
      },
      "outputs": [
        {
          "name": "stdout",
          "output_type": "stream",
          "text": [
            "5244\n"
          ]
        }
      ],
      "source": [
        "X_dataset = np.loadtxt(dataset, delimiter=',', dtype='float32', usecols=list(range(1, (21 * 2) + 1)))\n",
        "print(len(X_dataset))"
      ]
    },
    {
      "cell_type": "code",
      "execution_count": 33,
      "metadata": {
        "id": "QmoKFsp49hE0"
      },
      "outputs": [],
      "source": [
        "y_dataset = np.loadtxt(dataset, delimiter=',', dtype='int32', usecols=(0))"
      ]
    },
    {
      "cell_type": "code",
      "execution_count": 34,
      "metadata": {
        "id": "xQU7JTZ_9hE0"
      },
      "outputs": [],
      "source": [
        "X_train, X_test, y_train, y_test = train_test_split(X_dataset, y_dataset, train_size=0.75, random_state=RANDOM_SEED)"
      ]
    },
    {
      "cell_type": "markdown",
      "metadata": {
        "id": "mxK_lETT9hE0"
      },
      "source": [
        "# Model building"
      ]
    },
    {
      "cell_type": "code",
      "execution_count": 35,
      "metadata": {
        "id": "vHBmUf1t9hE1"
      },
      "outputs": [],
      "source": [
        "model = tf.keras.models.Sequential([\n",
        "    tf.keras.layers.Input((21 * 2, )),\n",
        "    tf.keras.layers.Dropout(0.2),\n",
        "    tf.keras.layers.Dense(20, activation='relu'),\n",
        "    tf.keras.layers.Dropout(0.4),\n",
        "    tf.keras.layers.Dense(10, activation='relu'),\n",
        "    tf.keras.layers.Dense(NUM_CLASSES, activation='softmax')\n",
        "])"
      ]
    },
    {
      "cell_type": "code",
      "execution_count": 36,
      "metadata": {
        "colab": {
          "base_uri": "https://localhost:8080/"
        },
        "id": "ypqky9tc9hE1",
        "outputId": "5db082bb-30e3-4110-bf63-a1ee777ecd46"
      },
      "outputs": [
        {
          "name": "stdout",
          "output_type": "stream",
          "text": [
            "Model: \"sequential_2\"\n",
            "_________________________________________________________________\n",
            " Layer (type)                Output Shape              Param #   \n",
            "=================================================================\n",
            " dropout_4 (Dropout)         (None, 42)                0         \n",
            "                                                                 \n",
            " dense_6 (Dense)             (None, 20)                860       \n",
            "                                                                 \n",
            " dropout_5 (Dropout)         (None, 20)                0         \n",
            "                                                                 \n",
            " dense_7 (Dense)             (None, 10)                210       \n",
            "                                                                 \n",
            " dense_8 (Dense)             (None, 6)                 66        \n",
            "                                                                 \n",
            "=================================================================\n",
            "Total params: 1136 (4.44 KB)\n",
            "Trainable params: 1136 (4.44 KB)\n",
            "Non-trainable params: 0 (0.00 Byte)\n",
            "_________________________________________________________________\n"
          ]
        }
      ],
      "source": [
        "model.summary()  # tf.keras.utils.plot_model(model, show_shapes=True)"
      ]
    },
    {
      "cell_type": "code",
      "execution_count": 37,
      "metadata": {
        "id": "MbMjOflQ9hE1"
      },
      "outputs": [],
      "source": [
        "# Model checkpoint callback\n",
        "cp_callback = tf.keras.callbacks.ModelCheckpoint(\n",
        "    model_save_path, verbose=1, save_weights_only=False)\n",
        "# Callback for early stopping\n",
        "es_callback = tf.keras.callbacks.EarlyStopping(patience=20, verbose=1)"
      ]
    },
    {
      "cell_type": "code",
      "execution_count": 38,
      "metadata": {
        "id": "c3Dac0M_9hE2"
      },
      "outputs": [],
      "source": [
        "# Model compilation\n",
        "model.compile(\n",
        "    optimizer='adam',\n",
        "    loss='sparse_categorical_crossentropy',\n",
        "    metrics=['accuracy']\n",
        ")"
      ]
    },
    {
      "cell_type": "markdown",
      "metadata": {
        "id": "7XI0j1Iu9hE2"
      },
      "source": [
        "# Model training"
      ]
    },
    {
      "cell_type": "code",
      "execution_count": 39,
      "metadata": {
        "colab": {
          "base_uri": "https://localhost:8080/"
        },
        "id": "WirBl-JE9hE3",
        "outputId": "71b30ca2-8294-4d9d-8aa2-800d90d399de",
        "scrolled": true
      },
      "outputs": [
        {
          "name": "stdout",
          "output_type": "stream",
          "text": [
            "Epoch 1/1000\n"
          ]
        },
        {
          "name": "stdout",
          "output_type": "stream",
          "text": [
            " 1/31 [..............................] - ETA: 11s - loss: 1.8074 - accuracy: 0.2188\n",
            "Epoch 1: saving model to model/keypoint_classifier\\keypoint_classifier.hdf5\n",
            "31/31 [==============================] - 1s 6ms/step - loss: 1.7088 - accuracy: 0.2967 - val_loss: 1.6264 - val_accuracy: 0.3333\n",
            "Epoch 2/1000\n",
            " 1/31 [..............................] - ETA: 0s - loss: 1.6682 - accuracy: 0.3203\n",
            "Epoch 2: saving model to model/keypoint_classifier\\keypoint_classifier.hdf5\n",
            "31/31 [==============================] - 0s 2ms/step - loss: 1.5910 - accuracy: 0.3387 - val_loss: 1.5060 - val_accuracy: 0.3814\n",
            "Epoch 3/1000\n",
            " 1/31 [..............................] - ETA: 0s - loss: 1.4669 - accuracy: 0.4297\n",
            "Epoch 3: saving model to model/keypoint_classifier\\keypoint_classifier.hdf5\n",
            "31/31 [==============================] - 0s 2ms/step - loss: 1.4774 - accuracy: 0.3893 - val_loss: 1.3916 - val_accuracy: 0.4111\n",
            "Epoch 4/1000\n",
            " 1/31 [..............................] - ETA: 0s - loss: 1.4157 - accuracy: 0.4297"
          ]
        },
        {
          "name": "stderr",
          "output_type": "stream",
          "text": [
            "c:\\Users\\ongxu\\OneDrive\\Documents\\Coding\\projects\\python_projects\\env\\lib\\site-packages\\keras\\src\\engine\\training.py:3103: UserWarning: You are saving your model as an HDF5 file via `model.save()`. This file format is considered legacy. We recommend using instead the native Keras format, e.g. `model.save('my_model.keras')`.\n",
            "  saving_api.save_model(\n"
          ]
        },
        {
          "name": "stdout",
          "output_type": "stream",
          "text": [
            "\n",
            "Epoch 4: saving model to model/keypoint_classifier\\keypoint_classifier.hdf5\n",
            "31/31 [==============================] - 0s 2ms/step - loss: 1.3839 - accuracy: 0.4193 - val_loss: 1.2737 - val_accuracy: 0.4905\n",
            "Epoch 5/1000\n",
            " 1/31 [..............................] - ETA: 0s - loss: 1.3611 - accuracy: 0.3906\n",
            "Epoch 5: saving model to model/keypoint_classifier\\keypoint_classifier.hdf5\n",
            "31/31 [==============================] - 0s 2ms/step - loss: 1.2826 - accuracy: 0.4577 - val_loss: 1.1531 - val_accuracy: 0.5896\n",
            "Epoch 6/1000\n",
            " 1/31 [..............................] - ETA: 0s - loss: 1.2363 - accuracy: 0.4922\n",
            "Epoch 6: saving model to model/keypoint_classifier\\keypoint_classifier.hdf5\n",
            "31/31 [==============================] - 0s 2ms/step - loss: 1.2161 - accuracy: 0.4976 - val_loss: 1.0476 - val_accuracy: 0.6491\n",
            "Epoch 7/1000\n",
            " 1/31 [..............................] - ETA: 0s - loss: 1.1161 - accuracy: 0.5391\n",
            "Epoch 7: saving model to model/keypoint_classifier\\keypoint_classifier.hdf5\n",
            "31/31 [==============================] - 0s 2ms/step - loss: 1.1497 - accuracy: 0.5154 - val_loss: 0.9716 - val_accuracy: 0.6789\n",
            "Epoch 8/1000\n",
            " 1/31 [..............................] - ETA: 0s - loss: 1.1725 - accuracy: 0.5391\n",
            "Epoch 8: saving model to model/keypoint_classifier\\keypoint_classifier.hdf5\n",
            "31/31 [==============================] - 0s 2ms/step - loss: 1.0923 - accuracy: 0.5367 - val_loss: 0.9107 - val_accuracy: 0.7330\n",
            "Epoch 9/1000\n",
            " 1/31 [..............................] - ETA: 0s - loss: 1.0151 - accuracy: 0.6094\n",
            "Epoch 9: saving model to model/keypoint_classifier\\keypoint_classifier.hdf5\n",
            "31/31 [==============================] - 0s 2ms/step - loss: 1.0571 - accuracy: 0.5426 - val_loss: 0.8543 - val_accuracy: 0.7559\n",
            "Epoch 10/1000\n",
            " 1/31 [..............................] - ETA: 0s - loss: 1.1074 - accuracy: 0.5391\n",
            "Epoch 10: saving model to model/keypoint_classifier\\keypoint_classifier.hdf5\n",
            "31/31 [==============================] - 0s 2ms/step - loss: 1.0209 - accuracy: 0.5667 - val_loss: 0.8104 - val_accuracy: 0.7689\n",
            "Epoch 11/1000\n",
            " 1/31 [..............................] - ETA: 0s - loss: 0.9144 - accuracy: 0.6641\n",
            "Epoch 11: saving model to model/keypoint_classifier\\keypoint_classifier.hdf5\n",
            "31/31 [==============================] - 0s 2ms/step - loss: 1.0023 - accuracy: 0.5675 - val_loss: 0.7772 - val_accuracy: 0.7796\n",
            "Epoch 12/1000\n",
            " 1/31 [..............................] - ETA: 0s - loss: 1.0141 - accuracy: 0.5547\n",
            "Epoch 12: saving model to model/keypoint_classifier\\keypoint_classifier.hdf5\n",
            "31/31 [==============================] - 0s 2ms/step - loss: 0.9460 - accuracy: 0.5929 - val_loss: 0.7349 - val_accuracy: 0.7887\n",
            "Epoch 13/1000\n",
            " 1/31 [..............................] - ETA: 0s - loss: 0.9618 - accuracy: 0.6250\n",
            "Epoch 13: saving model to model/keypoint_classifier\\keypoint_classifier.hdf5\n",
            "31/31 [==============================] - 0s 2ms/step - loss: 0.9358 - accuracy: 0.5988 - val_loss: 0.7003 - val_accuracy: 0.7994\n",
            "Epoch 14/1000\n",
            " 1/31 [..............................] - ETA: 0s - loss: 0.9177 - accuracy: 0.6016\n",
            "Epoch 14: saving model to model/keypoint_classifier\\keypoint_classifier.hdf5\n",
            "31/31 [==============================] - 0s 2ms/step - loss: 0.9247 - accuracy: 0.6049 - val_loss: 0.6783 - val_accuracy: 0.8322\n",
            "Epoch 15/1000\n",
            " 1/31 [..............................] - ETA: 0s - loss: 0.9082 - accuracy: 0.6328\n",
            "Epoch 15: saving model to model/keypoint_classifier\\keypoint_classifier.hdf5\n",
            "31/31 [==============================] - 0s 2ms/step - loss: 0.9097 - accuracy: 0.6018 - val_loss: 0.6508 - val_accuracy: 0.8528\n",
            "Epoch 16/1000\n",
            " 1/31 [..............................] - ETA: 0s - loss: 0.8122 - accuracy: 0.6484\n",
            "Epoch 16: saving model to model/keypoint_classifier\\keypoint_classifier.hdf5\n",
            "31/31 [==============================] - 0s 2ms/step - loss: 0.8866 - accuracy: 0.6217 - val_loss: 0.6340 - val_accuracy: 0.8375\n",
            "Epoch 17/1000\n",
            " 1/31 [..............................] - ETA: 0s - loss: 0.8602 - accuracy: 0.6406\n",
            "Epoch 17: saving model to model/keypoint_classifier\\keypoint_classifier.hdf5\n",
            "31/31 [==============================] - 0s 2ms/step - loss: 0.8657 - accuracy: 0.6260 - val_loss: 0.6176 - val_accuracy: 0.8413\n",
            "Epoch 18/1000\n",
            " 1/31 [..............................] - ETA: 0s - loss: 0.9713 - accuracy: 0.5625\n",
            "Epoch 18: saving model to model/keypoint_classifier\\keypoint_classifier.hdf5\n",
            "31/31 [==============================] - 0s 2ms/step - loss: 0.8606 - accuracy: 0.6316 - val_loss: 0.5967 - val_accuracy: 0.8558\n",
            "Epoch 19/1000\n",
            " 1/31 [..............................] - ETA: 0s - loss: 0.8197 - accuracy: 0.6406\n",
            "Epoch 19: saving model to model/keypoint_classifier\\keypoint_classifier.hdf5\n",
            "31/31 [==============================] - 0s 3ms/step - loss: 0.8500 - accuracy: 0.6400 - val_loss: 0.5805 - val_accuracy: 0.8558\n",
            "Epoch 20/1000\n",
            " 1/31 [..............................] - ETA: 0s - loss: 0.8364 - accuracy: 0.6484\n",
            "Epoch 20: saving model to model/keypoint_classifier\\keypoint_classifier.hdf5\n",
            "31/31 [==============================] - 0s 2ms/step - loss: 0.8421 - accuracy: 0.6392 - val_loss: 0.5650 - val_accuracy: 0.8596\n",
            "Epoch 21/1000\n",
            " 1/31 [..............................] - ETA: 0s - loss: 0.8722 - accuracy: 0.5781\n",
            "Epoch 21: saving model to model/keypoint_classifier\\keypoint_classifier.hdf5\n",
            "31/31 [==============================] - 0s 2ms/step - loss: 0.8224 - accuracy: 0.6519 - val_loss: 0.5506 - val_accuracy: 0.8696\n",
            "Epoch 22/1000\n",
            " 1/31 [..............................] - ETA: 0s - loss: 0.8652 - accuracy: 0.5938\n",
            "Epoch 22: saving model to model/keypoint_classifier\\keypoint_classifier.hdf5\n",
            "31/31 [==============================] - 0s 2ms/step - loss: 0.8307 - accuracy: 0.6405 - val_loss: 0.5395 - val_accuracy: 0.8818\n",
            "Epoch 23/1000\n",
            " 1/31 [..............................] - ETA: 0s - loss: 0.8896 - accuracy: 0.6328\n",
            "Epoch 23: saving model to model/keypoint_classifier\\keypoint_classifier.hdf5\n",
            "31/31 [==============================] - 0s 2ms/step - loss: 0.8115 - accuracy: 0.6618 - val_loss: 0.5294 - val_accuracy: 0.8604\n",
            "Epoch 24/1000\n",
            " 1/31 [..............................] - ETA: 0s - loss: 0.9201 - accuracy: 0.5781\n",
            "Epoch 24: saving model to model/keypoint_classifier\\keypoint_classifier.hdf5\n",
            "31/31 [==============================] - 0s 2ms/step - loss: 0.8054 - accuracy: 0.6664 - val_loss: 0.5121 - val_accuracy: 0.8749\n",
            "Epoch 25/1000\n",
            " 1/31 [..............................] - ETA: 0s - loss: 0.9400 - accuracy: 0.5859\n",
            "Epoch 25: saving model to model/keypoint_classifier\\keypoint_classifier.hdf5\n",
            "31/31 [==============================] - 0s 2ms/step - loss: 0.8034 - accuracy: 0.6687 - val_loss: 0.5180 - val_accuracy: 0.8780\n",
            "Epoch 26/1000\n",
            " 1/31 [..............................] - ETA: 0s - loss: 0.6268 - accuracy: 0.7734\n",
            "Epoch 26: saving model to model/keypoint_classifier\\keypoint_classifier.hdf5\n",
            "31/31 [==============================] - 0s 2ms/step - loss: 0.7632 - accuracy: 0.6837 - val_loss: 0.4993 - val_accuracy: 0.8680\n",
            "Epoch 27/1000\n",
            " 1/31 [..............................] - ETA: 0s - loss: 0.7232 - accuracy: 0.6953\n",
            "Epoch 27: saving model to model/keypoint_classifier\\keypoint_classifier.hdf5\n",
            "31/31 [==============================] - 0s 2ms/step - loss: 0.7634 - accuracy: 0.6827 - val_loss: 0.4936 - val_accuracy: 0.8909\n",
            "Epoch 28/1000\n",
            " 1/31 [..............................] - ETA: 0s - loss: 0.7233 - accuracy: 0.7031\n",
            "Epoch 28: saving model to model/keypoint_classifier\\keypoint_classifier.hdf5\n",
            "31/31 [==============================] - 0s 2ms/step - loss: 0.7633 - accuracy: 0.6735 - val_loss: 0.4788 - val_accuracy: 0.8886\n",
            "Epoch 29/1000\n",
            " 1/31 [..............................] - ETA: 0s - loss: 0.7730 - accuracy: 0.6719\n",
            "Epoch 29: saving model to model/keypoint_classifier\\keypoint_classifier.hdf5\n",
            "31/31 [==============================] - 0s 2ms/step - loss: 0.7572 - accuracy: 0.6913 - val_loss: 0.4737 - val_accuracy: 0.8940\n",
            "Epoch 30/1000\n",
            " 1/31 [..............................] - ETA: 0s - loss: 0.8105 - accuracy: 0.6484\n",
            "Epoch 30: saving model to model/keypoint_classifier\\keypoint_classifier.hdf5\n",
            "31/31 [==============================] - 0s 2ms/step - loss: 0.7501 - accuracy: 0.6944 - val_loss: 0.4618 - val_accuracy: 0.8848\n",
            "Epoch 31/1000\n",
            " 1/31 [..............................] - ETA: 0s - loss: 0.7444 - accuracy: 0.7031\n",
            "Epoch 31: saving model to model/keypoint_classifier\\keypoint_classifier.hdf5\n",
            "31/31 [==============================] - 0s 2ms/step - loss: 0.7396 - accuracy: 0.6936 - val_loss: 0.4558 - val_accuracy: 0.8924\n",
            "Epoch 32/1000\n",
            " 1/31 [..............................] - ETA: 0s - loss: 0.8881 - accuracy: 0.6328\n",
            "Epoch 32: saving model to model/keypoint_classifier\\keypoint_classifier.hdf5\n",
            "31/31 [==============================] - 0s 2ms/step - loss: 0.7437 - accuracy: 0.6908 - val_loss: 0.4531 - val_accuracy: 0.8909\n",
            "Epoch 33/1000\n",
            " 1/31 [..............................] - ETA: 0s - loss: 0.7212 - accuracy: 0.7109\n",
            "Epoch 33: saving model to model/keypoint_classifier\\keypoint_classifier.hdf5\n",
            "31/31 [==============================] - 0s 2ms/step - loss: 0.7322 - accuracy: 0.7035 - val_loss: 0.4454 - val_accuracy: 0.8970\n",
            "Epoch 34/1000\n",
            " 1/31 [..............................] - ETA: 0s - loss: 0.6890 - accuracy: 0.7109\n",
            "Epoch 34: saving model to model/keypoint_classifier\\keypoint_classifier.hdf5\n",
            "31/31 [==============================] - 0s 2ms/step - loss: 0.7223 - accuracy: 0.7020 - val_loss: 0.4315 - val_accuracy: 0.9031\n",
            "Epoch 35/1000\n",
            " 1/31 [..............................] - ETA: 0s - loss: 0.7824 - accuracy: 0.7109\n",
            "Epoch 35: saving model to model/keypoint_classifier\\keypoint_classifier.hdf5\n",
            "31/31 [==============================] - 0s 2ms/step - loss: 0.7227 - accuracy: 0.7025 - val_loss: 0.4441 - val_accuracy: 0.8924\n",
            "Epoch 36/1000\n",
            " 1/31 [..............................] - ETA: 0s - loss: 0.6483 - accuracy: 0.7500\n",
            "Epoch 36: saving model to model/keypoint_classifier\\keypoint_classifier.hdf5\n",
            "31/31 [==============================] - 0s 2ms/step - loss: 0.7021 - accuracy: 0.7132 - val_loss: 0.4150 - val_accuracy: 0.9108\n",
            "Epoch 37/1000\n",
            " 1/31 [..............................] - ETA: 0s - loss: 0.7130 - accuracy: 0.7422\n",
            "Epoch 37: saving model to model/keypoint_classifier\\keypoint_classifier.hdf5\n",
            "31/31 [==============================] - 0s 2ms/step - loss: 0.7218 - accuracy: 0.7079 - val_loss: 0.4323 - val_accuracy: 0.8978\n",
            "Epoch 38/1000\n",
            " 1/31 [..............................] - ETA: 0s - loss: 0.7372 - accuracy: 0.7188\n",
            "Epoch 38: saving model to model/keypoint_classifier\\keypoint_classifier.hdf5\n",
            "31/31 [==============================] - 0s 2ms/step - loss: 0.6983 - accuracy: 0.7150 - val_loss: 0.4114 - val_accuracy: 0.9054\n",
            "Epoch 39/1000\n",
            " 1/31 [..............................] - ETA: 0s - loss: 0.6457 - accuracy: 0.7266\n",
            "Epoch 39: saving model to model/keypoint_classifier\\keypoint_classifier.hdf5\n",
            "31/31 [==============================] - 0s 2ms/step - loss: 0.6957 - accuracy: 0.7211 - val_loss: 0.3999 - val_accuracy: 0.9115\n",
            "Epoch 40/1000\n",
            " 1/31 [..............................] - ETA: 0s - loss: 0.7426 - accuracy: 0.7109\n",
            "Epoch 40: saving model to model/keypoint_classifier\\keypoint_classifier.hdf5\n",
            "31/31 [==============================] - 0s 2ms/step - loss: 0.7124 - accuracy: 0.7119 - val_loss: 0.4024 - val_accuracy: 0.9092\n",
            "Epoch 41/1000\n",
            " 1/31 [..............................] - ETA: 0s - loss: 0.7524 - accuracy: 0.7031\n",
            "Epoch 41: saving model to model/keypoint_classifier\\keypoint_classifier.hdf5\n",
            "31/31 [==============================] - 0s 2ms/step - loss: 0.6997 - accuracy: 0.7239 - val_loss: 0.4119 - val_accuracy: 0.8986\n",
            "Epoch 42/1000\n",
            " 1/31 [..............................] - ETA: 0s - loss: 0.7689 - accuracy: 0.7422\n",
            "Epoch 42: saving model to model/keypoint_classifier\\keypoint_classifier.hdf5\n",
            "31/31 [==============================] - 0s 2ms/step - loss: 0.7108 - accuracy: 0.7142 - val_loss: 0.4021 - val_accuracy: 0.9092\n",
            "Epoch 43/1000\n",
            " 1/31 [..............................] - ETA: 0s - loss: 0.5339 - accuracy: 0.8438\n",
            "Epoch 43: saving model to model/keypoint_classifier\\keypoint_classifier.hdf5\n",
            "31/31 [==============================] - 0s 2ms/step - loss: 0.6851 - accuracy: 0.7262 - val_loss: 0.3976 - val_accuracy: 0.9016\n",
            "Epoch 44/1000\n",
            " 1/31 [..............................] - ETA: 0s - loss: 0.6760 - accuracy: 0.8125\n",
            "Epoch 44: saving model to model/keypoint_classifier\\keypoint_classifier.hdf5\n",
            "31/31 [==============================] - 0s 2ms/step - loss: 0.6697 - accuracy: 0.7333 - val_loss: 0.3875 - val_accuracy: 0.9115\n",
            "Epoch 45/1000\n",
            " 1/31 [..............................] - ETA: 0s - loss: 0.6464 - accuracy: 0.7344\n",
            "Epoch 45: saving model to model/keypoint_classifier\\keypoint_classifier.hdf5\n",
            "31/31 [==============================] - 0s 2ms/step - loss: 0.6687 - accuracy: 0.7315 - val_loss: 0.3870 - val_accuracy: 0.9085\n",
            "Epoch 46/1000\n",
            " 1/31 [..............................] - ETA: 0s - loss: 0.6080 - accuracy: 0.7734\n",
            "Epoch 46: saving model to model/keypoint_classifier\\keypoint_classifier.hdf5\n",
            "31/31 [==============================] - 0s 2ms/step - loss: 0.6780 - accuracy: 0.7234 - val_loss: 0.3845 - val_accuracy: 0.9161\n",
            "Epoch 47/1000\n",
            " 1/31 [..............................] - ETA: 0s - loss: 0.6386 - accuracy: 0.7109\n",
            "Epoch 47: saving model to model/keypoint_classifier\\keypoint_classifier.hdf5\n",
            "31/31 [==============================] - 0s 2ms/step - loss: 0.6614 - accuracy: 0.7348 - val_loss: 0.3815 - val_accuracy: 0.9146\n",
            "Epoch 48/1000\n",
            " 1/31 [..............................] - ETA: 0s - loss: 0.6717 - accuracy: 0.6875\n",
            "Epoch 48: saving model to model/keypoint_classifier\\keypoint_classifier.hdf5\n",
            "31/31 [==============================] - 0s 2ms/step - loss: 0.6661 - accuracy: 0.7262 - val_loss: 0.3748 - val_accuracy: 0.9184\n",
            "Epoch 49/1000\n",
            " 1/31 [..............................] - ETA: 0s - loss: 0.6455 - accuracy: 0.7188\n",
            "Epoch 49: saving model to model/keypoint_classifier\\keypoint_classifier.hdf5\n",
            "31/31 [==============================] - 0s 2ms/step - loss: 0.6676 - accuracy: 0.7368 - val_loss: 0.3683 - val_accuracy: 0.9207\n",
            "Epoch 50/1000\n",
            " 1/31 [..............................] - ETA: 0s - loss: 0.6116 - accuracy: 0.7500\n",
            "Epoch 50: saving model to model/keypoint_classifier\\keypoint_classifier.hdf5\n",
            "31/31 [==============================] - 0s 2ms/step - loss: 0.6473 - accuracy: 0.7399 - val_loss: 0.3706 - val_accuracy: 0.9191\n",
            "Epoch 51/1000\n",
            " 1/31 [..............................] - ETA: 0s - loss: 0.6878 - accuracy: 0.7344\n",
            "Epoch 51: saving model to model/keypoint_classifier\\keypoint_classifier.hdf5\n",
            "31/31 [==============================] - 0s 2ms/step - loss: 0.6687 - accuracy: 0.7343 - val_loss: 0.3656 - val_accuracy: 0.9252\n",
            "Epoch 52/1000\n",
            " 1/31 [..............................] - ETA: 0s - loss: 0.7040 - accuracy: 0.7109\n",
            "Epoch 52: saving model to model/keypoint_classifier\\keypoint_classifier.hdf5\n",
            "31/31 [==============================] - 0s 2ms/step - loss: 0.6580 - accuracy: 0.7391 - val_loss: 0.3596 - val_accuracy: 0.9230\n",
            "Epoch 53/1000\n",
            " 1/31 [..............................] - ETA: 0s - loss: 0.7331 - accuracy: 0.6719\n",
            "Epoch 53: saving model to model/keypoint_classifier\\keypoint_classifier.hdf5\n",
            "31/31 [==============================] - 0s 2ms/step - loss: 0.6460 - accuracy: 0.7412 - val_loss: 0.3630 - val_accuracy: 0.9153\n",
            "Epoch 54/1000\n",
            " 1/31 [..............................] - ETA: 0s - loss: 0.6558 - accuracy: 0.7266\n",
            "Epoch 54: saving model to model/keypoint_classifier\\keypoint_classifier.hdf5\n",
            "31/31 [==============================] - 0s 2ms/step - loss: 0.6478 - accuracy: 0.7389 - val_loss: 0.3627 - val_accuracy: 0.9207\n",
            "Epoch 55/1000\n",
            " 1/31 [..............................] - ETA: 0s - loss: 0.6117 - accuracy: 0.7812\n",
            "Epoch 55: saving model to model/keypoint_classifier\\keypoint_classifier.hdf5\n",
            "31/31 [==============================] - 0s 2ms/step - loss: 0.6424 - accuracy: 0.7440 - val_loss: 0.3602 - val_accuracy: 0.9176\n",
            "Epoch 56/1000\n",
            " 1/31 [..............................] - ETA: 0s - loss: 0.5950 - accuracy: 0.7188\n",
            "Epoch 56: saving model to model/keypoint_classifier\\keypoint_classifier.hdf5\n",
            "31/31 [==============================] - 0s 2ms/step - loss: 0.6422 - accuracy: 0.7384 - val_loss: 0.3553 - val_accuracy: 0.9222\n",
            "Epoch 57/1000\n",
            " 1/31 [..............................] - ETA: 0s - loss: 0.6806 - accuracy: 0.7422\n",
            "Epoch 57: saving model to model/keypoint_classifier\\keypoint_classifier.hdf5\n",
            "31/31 [==============================] - 0s 2ms/step - loss: 0.6594 - accuracy: 0.7376 - val_loss: 0.3505 - val_accuracy: 0.9252\n",
            "Epoch 58/1000\n",
            " 1/31 [..............................] - ETA: 0s - loss: 0.6133 - accuracy: 0.7422\n",
            "Epoch 58: saving model to model/keypoint_classifier\\keypoint_classifier.hdf5\n",
            "31/31 [==============================] - 0s 2ms/step - loss: 0.6362 - accuracy: 0.7483 - val_loss: 0.3531 - val_accuracy: 0.9237\n",
            "Epoch 59/1000\n",
            " 1/31 [..............................] - ETA: 0s - loss: 0.5984 - accuracy: 0.7578\n",
            "Epoch 59: saving model to model/keypoint_classifier\\keypoint_classifier.hdf5\n",
            "31/31 [==============================] - 0s 2ms/step - loss: 0.6486 - accuracy: 0.7435 - val_loss: 0.3547 - val_accuracy: 0.9237\n",
            "Epoch 60/1000\n",
            " 1/31 [..............................] - ETA: 0s - loss: 0.5565 - accuracy: 0.7734\n",
            "Epoch 60: saving model to model/keypoint_classifier\\keypoint_classifier.hdf5\n",
            "31/31 [==============================] - 0s 2ms/step - loss: 0.6332 - accuracy: 0.7490 - val_loss: 0.3487 - val_accuracy: 0.9207\n",
            "Epoch 61/1000\n",
            " 1/31 [..............................] - ETA: 0s - loss: 0.5892 - accuracy: 0.7734\n",
            "Epoch 61: saving model to model/keypoint_classifier\\keypoint_classifier.hdf5\n",
            "31/31 [==============================] - 0s 2ms/step - loss: 0.6400 - accuracy: 0.7432 - val_loss: 0.3405 - val_accuracy: 0.9291\n",
            "Epoch 62/1000\n",
            " 1/31 [..............................] - ETA: 0s - loss: 0.5759 - accuracy: 0.7812\n",
            "Epoch 62: saving model to model/keypoint_classifier\\keypoint_classifier.hdf5\n",
            "31/31 [==============================] - 0s 2ms/step - loss: 0.6263 - accuracy: 0.7513 - val_loss: 0.3405 - val_accuracy: 0.9283\n",
            "Epoch 63/1000\n",
            " 1/31 [..............................] - ETA: 0s - loss: 0.6074 - accuracy: 0.7578\n",
            "Epoch 63: saving model to model/keypoint_classifier\\keypoint_classifier.hdf5\n",
            "31/31 [==============================] - 0s 2ms/step - loss: 0.6341 - accuracy: 0.7485 - val_loss: 0.3463 - val_accuracy: 0.9291\n",
            "Epoch 64/1000\n",
            " 1/31 [..............................] - ETA: 0s - loss: 0.6514 - accuracy: 0.7812\n",
            "Epoch 64: saving model to model/keypoint_classifier\\keypoint_classifier.hdf5\n",
            "31/31 [==============================] - 0s 2ms/step - loss: 0.6284 - accuracy: 0.7534 - val_loss: 0.3307 - val_accuracy: 0.9306\n",
            "Epoch 65/1000\n",
            " 1/31 [..............................] - ETA: 0s - loss: 0.6436 - accuracy: 0.7812\n",
            "Epoch 65: saving model to model/keypoint_classifier\\keypoint_classifier.hdf5\n",
            "31/31 [==============================] - 0s 2ms/step - loss: 0.6320 - accuracy: 0.7422 - val_loss: 0.3369 - val_accuracy: 0.9306\n",
            "Epoch 66/1000\n",
            " 1/31 [..............................] - ETA: 0s - loss: 0.6192 - accuracy: 0.7812\n",
            "Epoch 66: saving model to model/keypoint_classifier\\keypoint_classifier.hdf5\n",
            "31/31 [==============================] - 0s 2ms/step - loss: 0.6265 - accuracy: 0.7493 - val_loss: 0.3314 - val_accuracy: 0.9367\n",
            "Epoch 67/1000\n",
            " 1/31 [..............................] - ETA: 0s - loss: 0.5865 - accuracy: 0.7891\n",
            "Epoch 67: saving model to model/keypoint_classifier\\keypoint_classifier.hdf5\n",
            "31/31 [==============================] - 0s 2ms/step - loss: 0.6190 - accuracy: 0.7521 - val_loss: 0.3292 - val_accuracy: 0.9314\n",
            "Epoch 68/1000\n",
            " 1/31 [..............................] - ETA: 0s - loss: 0.6579 - accuracy: 0.7969\n",
            "Epoch 68: saving model to model/keypoint_classifier\\keypoint_classifier.hdf5\n",
            "31/31 [==============================] - 0s 2ms/step - loss: 0.6126 - accuracy: 0.7615 - val_loss: 0.3296 - val_accuracy: 0.9252\n",
            "Epoch 69/1000\n",
            " 1/31 [..............................] - ETA: 0s - loss: 0.6655 - accuracy: 0.7031\n",
            "Epoch 69: saving model to model/keypoint_classifier\\keypoint_classifier.hdf5\n",
            "31/31 [==============================] - 0s 2ms/step - loss: 0.6252 - accuracy: 0.7541 - val_loss: 0.3274 - val_accuracy: 0.9390\n",
            "Epoch 70/1000\n",
            " 1/31 [..............................] - ETA: 0s - loss: 0.5919 - accuracy: 0.7344\n",
            "Epoch 70: saving model to model/keypoint_classifier\\keypoint_classifier.hdf5\n",
            "31/31 [==============================] - 0s 2ms/step - loss: 0.6266 - accuracy: 0.7529 - val_loss: 0.3376 - val_accuracy: 0.9336\n",
            "Epoch 71/1000\n",
            " 1/31 [..............................] - ETA: 0s - loss: 0.5994 - accuracy: 0.7656\n",
            "Epoch 71: saving model to model/keypoint_classifier\\keypoint_classifier.hdf5\n",
            "31/31 [==============================] - 0s 2ms/step - loss: 0.6064 - accuracy: 0.7638 - val_loss: 0.3277 - val_accuracy: 0.9336\n",
            "Epoch 72/1000\n",
            " 1/31 [..............................] - ETA: 0s - loss: 0.4798 - accuracy: 0.8438\n",
            "Epoch 72: saving model to model/keypoint_classifier\\keypoint_classifier.hdf5\n",
            "31/31 [==============================] - 0s 2ms/step - loss: 0.6351 - accuracy: 0.7572 - val_loss: 0.3230 - val_accuracy: 0.9344\n",
            "Epoch 73/1000\n",
            " 1/31 [..............................] - ETA: 0s - loss: 0.6157 - accuracy: 0.7422\n",
            "Epoch 73: saving model to model/keypoint_classifier\\keypoint_classifier.hdf5\n",
            "31/31 [==============================] - 0s 2ms/step - loss: 0.6282 - accuracy: 0.7592 - val_loss: 0.3320 - val_accuracy: 0.9314\n",
            "Epoch 74/1000\n",
            " 1/31 [..............................] - ETA: 0s - loss: 0.5490 - accuracy: 0.8203\n",
            "Epoch 74: saving model to model/keypoint_classifier\\keypoint_classifier.hdf5\n",
            "31/31 [==============================] - 0s 2ms/step - loss: 0.6203 - accuracy: 0.7613 - val_loss: 0.3234 - val_accuracy: 0.9329\n",
            "Epoch 75/1000\n",
            " 1/31 [..............................] - ETA: 0s - loss: 0.5802 - accuracy: 0.7734\n",
            "Epoch 75: saving model to model/keypoint_classifier\\keypoint_classifier.hdf5\n",
            "31/31 [==============================] - 0s 2ms/step - loss: 0.6125 - accuracy: 0.7638 - val_loss: 0.3249 - val_accuracy: 0.9344\n",
            "Epoch 76/1000\n",
            " 1/31 [..............................] - ETA: 0s - loss: 0.6251 - accuracy: 0.7188\n",
            "Epoch 76: saving model to model/keypoint_classifier\\keypoint_classifier.hdf5\n",
            "31/31 [==============================] - 0s 2ms/step - loss: 0.6099 - accuracy: 0.7651 - val_loss: 0.3217 - val_accuracy: 0.9329\n",
            "Epoch 77/1000\n",
            " 1/31 [..............................] - ETA: 0s - loss: 0.4803 - accuracy: 0.8359\n",
            "Epoch 77: saving model to model/keypoint_classifier\\keypoint_classifier.hdf5\n",
            "31/31 [==============================] - 0s 2ms/step - loss: 0.6119 - accuracy: 0.7676 - val_loss: 0.3132 - val_accuracy: 0.9344\n",
            "Epoch 78/1000\n",
            " 1/31 [..............................] - ETA: 0s - loss: 0.5422 - accuracy: 0.8203\n",
            "Epoch 78: saving model to model/keypoint_classifier\\keypoint_classifier.hdf5\n",
            "31/31 [==============================] - 0s 2ms/step - loss: 0.5990 - accuracy: 0.7656 - val_loss: 0.3156 - val_accuracy: 0.9344\n",
            "Epoch 79/1000\n",
            " 1/31 [..............................] - ETA: 0s - loss: 0.7833 - accuracy: 0.6953\n",
            "Epoch 79: saving model to model/keypoint_classifier\\keypoint_classifier.hdf5\n",
            "31/31 [==============================] - 0s 2ms/step - loss: 0.6068 - accuracy: 0.7630 - val_loss: 0.3188 - val_accuracy: 0.9352\n",
            "Epoch 80/1000\n",
            " 1/31 [..............................] - ETA: 0s - loss: 0.6679 - accuracy: 0.7969\n",
            "Epoch 80: saving model to model/keypoint_classifier\\keypoint_classifier.hdf5\n",
            "31/31 [==============================] - 0s 2ms/step - loss: 0.6132 - accuracy: 0.7610 - val_loss: 0.3190 - val_accuracy: 0.9314\n",
            "Epoch 81/1000\n",
            " 1/31 [..............................] - ETA: 0s - loss: 0.7468 - accuracy: 0.7266\n",
            "Epoch 81: saving model to model/keypoint_classifier\\keypoint_classifier.hdf5\n",
            "31/31 [==============================] - 0s 2ms/step - loss: 0.6021 - accuracy: 0.7600 - val_loss: 0.3154 - val_accuracy: 0.9344\n",
            "Epoch 82/1000\n",
            " 1/31 [..............................] - ETA: 0s - loss: 0.6764 - accuracy: 0.8047\n",
            "Epoch 82: saving model to model/keypoint_classifier\\keypoint_classifier.hdf5\n",
            "31/31 [==============================] - 0s 2ms/step - loss: 0.6007 - accuracy: 0.7691 - val_loss: 0.3171 - val_accuracy: 0.9344\n",
            "Epoch 83/1000\n",
            " 1/31 [..............................] - ETA: 0s - loss: 0.6369 - accuracy: 0.7344\n",
            "Epoch 83: saving model to model/keypoint_classifier\\keypoint_classifier.hdf5\n",
            "31/31 [==============================] - 0s 2ms/step - loss: 0.5978 - accuracy: 0.7681 - val_loss: 0.3135 - val_accuracy: 0.9382\n",
            "Epoch 84/1000\n",
            " 1/31 [..............................] - ETA: 0s - loss: 0.6875 - accuracy: 0.7969\n",
            "Epoch 84: saving model to model/keypoint_classifier\\keypoint_classifier.hdf5\n",
            "31/31 [==============================] - 0s 2ms/step - loss: 0.5970 - accuracy: 0.7745 - val_loss: 0.3135 - val_accuracy: 0.9367\n",
            "Epoch 85/1000\n",
            " 1/31 [..............................] - ETA: 0s - loss: 0.7667 - accuracy: 0.7266\n",
            "Epoch 85: saving model to model/keypoint_classifier\\keypoint_classifier.hdf5\n",
            "31/31 [==============================] - 0s 2ms/step - loss: 0.6055 - accuracy: 0.7686 - val_loss: 0.3123 - val_accuracy: 0.9359\n",
            "Epoch 86/1000\n",
            " 1/31 [..............................] - ETA: 0s - loss: 0.6292 - accuracy: 0.7266\n",
            "Epoch 86: saving model to model/keypoint_classifier\\keypoint_classifier.hdf5\n",
            "31/31 [==============================] - 0s 2ms/step - loss: 0.6065 - accuracy: 0.7671 - val_loss: 0.3144 - val_accuracy: 0.9359\n",
            "Epoch 87/1000\n",
            " 1/31 [..............................] - ETA: 0s - loss: 0.6189 - accuracy: 0.7656\n",
            "Epoch 87: saving model to model/keypoint_classifier\\keypoint_classifier.hdf5\n",
            "31/31 [==============================] - 0s 2ms/step - loss: 0.6061 - accuracy: 0.7694 - val_loss: 0.3123 - val_accuracy: 0.9367\n",
            "Epoch 88/1000\n",
            " 1/31 [..............................] - ETA: 0s - loss: 0.4870 - accuracy: 0.8047\n",
            "Epoch 88: saving model to model/keypoint_classifier\\keypoint_classifier.hdf5\n",
            "31/31 [==============================] - 0s 2ms/step - loss: 0.5962 - accuracy: 0.7714 - val_loss: 0.3126 - val_accuracy: 0.9336\n",
            "Epoch 89/1000\n",
            " 1/31 [..............................] - ETA: 0s - loss: 0.6250 - accuracy: 0.7656\n",
            "Epoch 89: saving model to model/keypoint_classifier\\keypoint_classifier.hdf5\n",
            "31/31 [==============================] - 0s 2ms/step - loss: 0.6017 - accuracy: 0.7635 - val_loss: 0.3086 - val_accuracy: 0.9329\n",
            "Epoch 90/1000\n",
            " 1/31 [..............................] - ETA: 0s - loss: 0.6121 - accuracy: 0.7734\n",
            "Epoch 90: saving model to model/keypoint_classifier\\keypoint_classifier.hdf5\n",
            "31/31 [==============================] - 0s 2ms/step - loss: 0.5794 - accuracy: 0.7839 - val_loss: 0.3079 - val_accuracy: 0.9336\n",
            "Epoch 91/1000\n",
            " 1/31 [..............................] - ETA: 0s - loss: 0.5276 - accuracy: 0.8125\n",
            "Epoch 91: saving model to model/keypoint_classifier\\keypoint_classifier.hdf5\n",
            "31/31 [==============================] - 0s 2ms/step - loss: 0.5748 - accuracy: 0.7727 - val_loss: 0.2987 - val_accuracy: 0.9375\n",
            "Epoch 92/1000\n",
            " 1/31 [..............................] - ETA: 0s - loss: 0.5678 - accuracy: 0.7734\n",
            "Epoch 92: saving model to model/keypoint_classifier\\keypoint_classifier.hdf5\n",
            "31/31 [==============================] - 0s 2ms/step - loss: 0.6075 - accuracy: 0.7635 - val_loss: 0.3044 - val_accuracy: 0.9420\n",
            "Epoch 93/1000\n",
            " 1/31 [..............................] - ETA: 0s - loss: 0.5902 - accuracy: 0.7266\n",
            "Epoch 93: saving model to model/keypoint_classifier\\keypoint_classifier.hdf5\n",
            "31/31 [==============================] - 0s 2ms/step - loss: 0.5973 - accuracy: 0.7635 - val_loss: 0.3034 - val_accuracy: 0.9390\n",
            "Epoch 94/1000\n",
            " 1/31 [..............................] - ETA: 0s - loss: 0.5766 - accuracy: 0.7969\n",
            "Epoch 94: saving model to model/keypoint_classifier\\keypoint_classifier.hdf5\n",
            "31/31 [==============================] - 0s 2ms/step - loss: 0.5800 - accuracy: 0.7778 - val_loss: 0.3102 - val_accuracy: 0.9329\n",
            "Epoch 95/1000\n",
            " 1/31 [..............................] - ETA: 0s - loss: 0.5321 - accuracy: 0.7891\n",
            "Epoch 95: saving model to model/keypoint_classifier\\keypoint_classifier.hdf5\n",
            "31/31 [==============================] - 0s 2ms/step - loss: 0.5873 - accuracy: 0.7676 - val_loss: 0.2948 - val_accuracy: 0.9420\n",
            "Epoch 96/1000\n",
            " 1/31 [..............................] - ETA: 0s - loss: 0.6223 - accuracy: 0.7344\n",
            "Epoch 96: saving model to model/keypoint_classifier\\keypoint_classifier.hdf5\n",
            "31/31 [==============================] - 0s 2ms/step - loss: 0.5804 - accuracy: 0.7768 - val_loss: 0.2959 - val_accuracy: 0.9420\n",
            "Epoch 97/1000\n",
            " 1/31 [..............................] - ETA: 0s - loss: 0.6575 - accuracy: 0.7578\n",
            "Epoch 97: saving model to model/keypoint_classifier\\keypoint_classifier.hdf5\n",
            "31/31 [==============================] - 0s 2ms/step - loss: 0.5957 - accuracy: 0.7712 - val_loss: 0.3106 - val_accuracy: 0.9382\n",
            "Epoch 98/1000\n",
            " 1/31 [..............................] - ETA: 0s - loss: 0.6548 - accuracy: 0.7188\n",
            "Epoch 98: saving model to model/keypoint_classifier\\keypoint_classifier.hdf5\n",
            "31/31 [==============================] - 0s 2ms/step - loss: 0.5763 - accuracy: 0.7747 - val_loss: 0.2974 - val_accuracy: 0.9397\n",
            "Epoch 99/1000\n",
            " 1/31 [..............................] - ETA: 0s - loss: 0.6692 - accuracy: 0.7344\n",
            "Epoch 99: saving model to model/keypoint_classifier\\keypoint_classifier.hdf5\n",
            "31/31 [==============================] - 0s 2ms/step - loss: 0.5835 - accuracy: 0.7666 - val_loss: 0.2987 - val_accuracy: 0.9405\n",
            "Epoch 100/1000\n",
            " 1/31 [..............................] - ETA: 0s - loss: 0.5860 - accuracy: 0.7656\n",
            "Epoch 100: saving model to model/keypoint_classifier\\keypoint_classifier.hdf5\n",
            "31/31 [==============================] - 0s 2ms/step - loss: 0.5844 - accuracy: 0.7765 - val_loss: 0.2916 - val_accuracy: 0.9474\n",
            "Epoch 101/1000\n",
            " 1/31 [..............................] - ETA: 0s - loss: 0.5434 - accuracy: 0.7734\n",
            "Epoch 101: saving model to model/keypoint_classifier\\keypoint_classifier.hdf5\n",
            "31/31 [==============================] - 0s 2ms/step - loss: 0.5564 - accuracy: 0.7829 - val_loss: 0.2960 - val_accuracy: 0.9390\n",
            "Epoch 102/1000\n",
            " 1/31 [..............................] - ETA: 0s - loss: 0.5757 - accuracy: 0.7734\n",
            "Epoch 102: saving model to model/keypoint_classifier\\keypoint_classifier.hdf5\n",
            "31/31 [==============================] - 0s 2ms/step - loss: 0.5933 - accuracy: 0.7694 - val_loss: 0.2880 - val_accuracy: 0.9420\n",
            "Epoch 103/1000\n",
            " 1/31 [..............................] - ETA: 0s - loss: 0.5192 - accuracy: 0.7969\n",
            "Epoch 103: saving model to model/keypoint_classifier\\keypoint_classifier.hdf5\n",
            "31/31 [==============================] - 0s 2ms/step - loss: 0.5782 - accuracy: 0.7770 - val_loss: 0.2939 - val_accuracy: 0.9405\n",
            "Epoch 104/1000\n",
            " 1/31 [..............................] - ETA: 0s - loss: 0.5193 - accuracy: 0.7656\n",
            "Epoch 104: saving model to model/keypoint_classifier\\keypoint_classifier.hdf5\n",
            "31/31 [==============================] - 0s 2ms/step - loss: 0.5702 - accuracy: 0.7780 - val_loss: 0.2869 - val_accuracy: 0.9397\n",
            "Epoch 105/1000\n",
            " 1/31 [..............................] - ETA: 0s - loss: 0.5711 - accuracy: 0.7344\n",
            "Epoch 105: saving model to model/keypoint_classifier\\keypoint_classifier.hdf5\n",
            "31/31 [==============================] - 0s 2ms/step - loss: 0.5844 - accuracy: 0.7694 - val_loss: 0.2851 - val_accuracy: 0.9443\n",
            "Epoch 106/1000\n",
            " 1/31 [..............................] - ETA: 0s - loss: 0.6297 - accuracy: 0.7188\n",
            "Epoch 106: saving model to model/keypoint_classifier\\keypoint_classifier.hdf5\n",
            "31/31 [==============================] - 0s 2ms/step - loss: 0.5633 - accuracy: 0.7869 - val_loss: 0.2798 - val_accuracy: 0.9458\n",
            "Epoch 107/1000\n",
            " 1/31 [..............................] - ETA: 0s - loss: 0.6231 - accuracy: 0.7891\n",
            "Epoch 107: saving model to model/keypoint_classifier\\keypoint_classifier.hdf5\n",
            "31/31 [==============================] - 0s 2ms/step - loss: 0.5705 - accuracy: 0.7818 - val_loss: 0.2823 - val_accuracy: 0.9474\n",
            "Epoch 108/1000\n",
            " 1/31 [..............................] - ETA: 0s - loss: 0.6036 - accuracy: 0.7578\n",
            "Epoch 108: saving model to model/keypoint_classifier\\keypoint_classifier.hdf5\n",
            "31/31 [==============================] - 0s 2ms/step - loss: 0.5705 - accuracy: 0.7773 - val_loss: 0.2863 - val_accuracy: 0.9413\n",
            "Epoch 109/1000\n",
            " 1/31 [..............................] - ETA: 0s - loss: 0.5222 - accuracy: 0.8047\n",
            "Epoch 109: saving model to model/keypoint_classifier\\keypoint_classifier.hdf5\n",
            "31/31 [==============================] - 0s 2ms/step - loss: 0.5732 - accuracy: 0.7737 - val_loss: 0.2872 - val_accuracy: 0.9458\n",
            "Epoch 110/1000\n",
            " 1/31 [..............................] - ETA: 0s - loss: 0.6356 - accuracy: 0.7500\n",
            "Epoch 110: saving model to model/keypoint_classifier\\keypoint_classifier.hdf5\n",
            "31/31 [==============================] - 0s 2ms/step - loss: 0.5701 - accuracy: 0.7831 - val_loss: 0.2879 - val_accuracy: 0.9397\n",
            "Epoch 111/1000\n",
            " 1/31 [..............................] - ETA: 0s - loss: 0.6423 - accuracy: 0.7031\n",
            "Epoch 111: saving model to model/keypoint_classifier\\keypoint_classifier.hdf5\n",
            "31/31 [==============================] - 0s 2ms/step - loss: 0.5692 - accuracy: 0.7773 - val_loss: 0.2895 - val_accuracy: 0.9352\n",
            "Epoch 112/1000\n",
            " 1/31 [..............................] - ETA: 0s - loss: 0.5825 - accuracy: 0.7969\n",
            "Epoch 112: saving model to model/keypoint_classifier\\keypoint_classifier.hdf5\n",
            "31/31 [==============================] - 0s 2ms/step - loss: 0.5553 - accuracy: 0.7783 - val_loss: 0.2807 - val_accuracy: 0.9420\n",
            "Epoch 113/1000\n",
            " 1/31 [..............................] - ETA: 0s - loss: 0.5459 - accuracy: 0.7812\n",
            "Epoch 113: saving model to model/keypoint_classifier\\keypoint_classifier.hdf5\n",
            "31/31 [==============================] - 0s 2ms/step - loss: 0.5789 - accuracy: 0.7724 - val_loss: 0.2946 - val_accuracy: 0.9375\n",
            "Epoch 114/1000\n",
            " 1/31 [..............................] - ETA: 0s - loss: 0.5418 - accuracy: 0.7734\n",
            "Epoch 114: saving model to model/keypoint_classifier\\keypoint_classifier.hdf5\n",
            "31/31 [==============================] - 0s 2ms/step - loss: 0.5614 - accuracy: 0.7806 - val_loss: 0.2857 - val_accuracy: 0.9420\n",
            "Epoch 115/1000\n",
            " 1/31 [..............................] - ETA: 0s - loss: 0.6444 - accuracy: 0.7109\n",
            "Epoch 115: saving model to model/keypoint_classifier\\keypoint_classifier.hdf5\n",
            "31/31 [==============================] - 0s 2ms/step - loss: 0.5705 - accuracy: 0.7783 - val_loss: 0.2863 - val_accuracy: 0.9390\n",
            "Epoch 116/1000\n",
            " 1/31 [..............................] - ETA: 0s - loss: 0.6294 - accuracy: 0.7500\n",
            "Epoch 116: saving model to model/keypoint_classifier\\keypoint_classifier.hdf5\n",
            "31/31 [==============================] - 0s 3ms/step - loss: 0.5645 - accuracy: 0.7841 - val_loss: 0.2831 - val_accuracy: 0.9420\n",
            "Epoch 117/1000\n",
            " 1/31 [..............................] - ETA: 0s - loss: 0.5483 - accuracy: 0.7891\n",
            "Epoch 117: saving model to model/keypoint_classifier\\keypoint_classifier.hdf5\n",
            "31/31 [==============================] - 0s 2ms/step - loss: 0.5813 - accuracy: 0.7765 - val_loss: 0.2952 - val_accuracy: 0.9413\n",
            "Epoch 118/1000\n",
            " 1/31 [..............................] - ETA: 0s - loss: 0.6694 - accuracy: 0.7734\n",
            "Epoch 118: saving model to model/keypoint_classifier\\keypoint_classifier.hdf5\n",
            "31/31 [==============================] - 0s 2ms/step - loss: 0.5650 - accuracy: 0.7846 - val_loss: 0.2851 - val_accuracy: 0.9397\n",
            "Epoch 119/1000\n",
            " 1/31 [..............................] - ETA: 0s - loss: 0.5518 - accuracy: 0.7891\n",
            "Epoch 119: saving model to model/keypoint_classifier\\keypoint_classifier.hdf5\n",
            "31/31 [==============================] - 0s 2ms/step - loss: 0.5470 - accuracy: 0.7854 - val_loss: 0.2940 - val_accuracy: 0.9336\n",
            "Epoch 120/1000\n",
            " 1/31 [..............................] - ETA: 0s - loss: 0.6351 - accuracy: 0.7422\n",
            "Epoch 120: saving model to model/keypoint_classifier\\keypoint_classifier.hdf5\n",
            "31/31 [==============================] - 0s 2ms/step - loss: 0.5647 - accuracy: 0.7872 - val_loss: 0.2865 - val_accuracy: 0.9359\n",
            "Epoch 121/1000\n",
            " 1/31 [..............................] - ETA: 0s - loss: 0.4504 - accuracy: 0.8125\n",
            "Epoch 121: saving model to model/keypoint_classifier\\keypoint_classifier.hdf5\n",
            "31/31 [==============================] - 0s 2ms/step - loss: 0.5611 - accuracy: 0.7846 - val_loss: 0.2794 - val_accuracy: 0.9390\n",
            "Epoch 122/1000\n",
            " 1/31 [..............................] - ETA: 0s - loss: 0.5028 - accuracy: 0.8047\n",
            "Epoch 122: saving model to model/keypoint_classifier\\keypoint_classifier.hdf5\n",
            "31/31 [==============================] - 0s 2ms/step - loss: 0.5596 - accuracy: 0.7854 - val_loss: 0.2860 - val_accuracy: 0.9336\n",
            "Epoch 123/1000\n",
            " 1/31 [..............................] - ETA: 0s - loss: 0.5491 - accuracy: 0.7734\n",
            "Epoch 123: saving model to model/keypoint_classifier\\keypoint_classifier.hdf5\n",
            "31/31 [==============================] - 0s 2ms/step - loss: 0.5568 - accuracy: 0.7844 - val_loss: 0.2761 - val_accuracy: 0.9436\n",
            "Epoch 124/1000\n",
            " 1/31 [..............................] - ETA: 0s - loss: 0.5099 - accuracy: 0.8047\n",
            "Epoch 124: saving model to model/keypoint_classifier\\keypoint_classifier.hdf5\n",
            "31/31 [==============================] - 0s 2ms/step - loss: 0.5846 - accuracy: 0.7775 - val_loss: 0.2789 - val_accuracy: 0.9436\n",
            "Epoch 125/1000\n",
            " 1/31 [..............................] - ETA: 0s - loss: 0.5929 - accuracy: 0.7891\n",
            "Epoch 125: saving model to model/keypoint_classifier\\keypoint_classifier.hdf5\n",
            "31/31 [==============================] - 0s 2ms/step - loss: 0.5806 - accuracy: 0.7816 - val_loss: 0.2892 - val_accuracy: 0.9344\n",
            "Epoch 126/1000\n",
            " 1/31 [..............................] - ETA: 0s - loss: 0.6072 - accuracy: 0.7734\n",
            "Epoch 126: saving model to model/keypoint_classifier\\keypoint_classifier.hdf5\n",
            "31/31 [==============================] - 0s 2ms/step - loss: 0.5667 - accuracy: 0.7745 - val_loss: 0.2808 - val_accuracy: 0.9390\n",
            "Epoch 127/1000\n",
            " 1/31 [..............................] - ETA: 0s - loss: 0.5710 - accuracy: 0.7422\n",
            "Epoch 127: saving model to model/keypoint_classifier\\keypoint_classifier.hdf5\n",
            "31/31 [==============================] - 0s 2ms/step - loss: 0.5580 - accuracy: 0.7813 - val_loss: 0.2809 - val_accuracy: 0.9397\n",
            "Epoch 128/1000\n",
            " 1/31 [..............................] - ETA: 0s - loss: 0.5767 - accuracy: 0.7266\n",
            "Epoch 128: saving model to model/keypoint_classifier\\keypoint_classifier.hdf5\n",
            "31/31 [==============================] - 0s 2ms/step - loss: 0.5572 - accuracy: 0.7846 - val_loss: 0.2813 - val_accuracy: 0.9397\n",
            "Epoch 129/1000\n",
            " 1/31 [..............................] - ETA: 0s - loss: 0.5000 - accuracy: 0.8125\n",
            "Epoch 129: saving model to model/keypoint_classifier\\keypoint_classifier.hdf5\n",
            "31/31 [==============================] - 0s 2ms/step - loss: 0.5822 - accuracy: 0.7773 - val_loss: 0.2887 - val_accuracy: 0.9382\n",
            "Epoch 130/1000\n",
            " 1/31 [..............................] - ETA: 0s - loss: 0.5029 - accuracy: 0.7891\n",
            "Epoch 130: saving model to model/keypoint_classifier\\keypoint_classifier.hdf5\n",
            "31/31 [==============================] - 0s 2ms/step - loss: 0.5475 - accuracy: 0.7849 - val_loss: 0.2754 - val_accuracy: 0.9382\n",
            "Epoch 131/1000\n",
            " 1/31 [..............................] - ETA: 0s - loss: 0.6514 - accuracy: 0.7578\n",
            "Epoch 131: saving model to model/keypoint_classifier\\keypoint_classifier.hdf5\n",
            "31/31 [==============================] - 0s 2ms/step - loss: 0.5612 - accuracy: 0.7900 - val_loss: 0.2808 - val_accuracy: 0.9359\n",
            "Epoch 132/1000\n",
            " 1/31 [..............................] - ETA: 0s - loss: 0.5972 - accuracy: 0.7500\n",
            "Epoch 132: saving model to model/keypoint_classifier\\keypoint_classifier.hdf5\n",
            "31/31 [==============================] - 0s 2ms/step - loss: 0.5645 - accuracy: 0.7841 - val_loss: 0.2812 - val_accuracy: 0.9405\n",
            "Epoch 133/1000\n",
            " 1/31 [..............................] - ETA: 0s - loss: 0.5132 - accuracy: 0.8125\n",
            "Epoch 133: saving model to model/keypoint_classifier\\keypoint_classifier.hdf5\n",
            "31/31 [==============================] - 0s 2ms/step - loss: 0.5399 - accuracy: 0.7966 - val_loss: 0.2816 - val_accuracy: 0.9390\n",
            "Epoch 134/1000\n",
            " 1/31 [..............................] - ETA: 0s - loss: 0.5942 - accuracy: 0.8203\n",
            "Epoch 134: saving model to model/keypoint_classifier\\keypoint_classifier.hdf5\n",
            "31/31 [==============================] - 0s 2ms/step - loss: 0.5470 - accuracy: 0.7920 - val_loss: 0.2749 - val_accuracy: 0.9382\n",
            "Epoch 135/1000\n",
            " 1/31 [..............................] - ETA: 0s - loss: 0.5436 - accuracy: 0.7812\n",
            "Epoch 135: saving model to model/keypoint_classifier\\keypoint_classifier.hdf5\n",
            "31/31 [==============================] - 0s 2ms/step - loss: 0.5496 - accuracy: 0.7920 - val_loss: 0.2815 - val_accuracy: 0.9344\n",
            "Epoch 136/1000\n",
            " 1/31 [..............................] - ETA: 0s - loss: 0.4840 - accuracy: 0.8047\n",
            "Epoch 136: saving model to model/keypoint_classifier\\keypoint_classifier.hdf5\n",
            "31/31 [==============================] - 0s 2ms/step - loss: 0.5288 - accuracy: 0.7946 - val_loss: 0.2657 - val_accuracy: 0.9489\n",
            "Epoch 137/1000\n",
            " 1/31 [..............................] - ETA: 0s - loss: 0.5645 - accuracy: 0.7734\n",
            "Epoch 137: saving model to model/keypoint_classifier\\keypoint_classifier.hdf5\n",
            "31/31 [==============================] - 0s 2ms/step - loss: 0.5734 - accuracy: 0.7755 - val_loss: 0.2793 - val_accuracy: 0.9428\n",
            "Epoch 138/1000\n",
            " 1/31 [..............................] - ETA: 0s - loss: 0.4794 - accuracy: 0.7891\n",
            "Epoch 138: saving model to model/keypoint_classifier\\keypoint_classifier.hdf5\n",
            "31/31 [==============================] - 0s 2ms/step - loss: 0.5556 - accuracy: 0.7831 - val_loss: 0.2752 - val_accuracy: 0.9436\n",
            "Epoch 139/1000\n",
            " 1/31 [..............................] - ETA: 0s - loss: 0.6581 - accuracy: 0.7344\n",
            "Epoch 139: saving model to model/keypoint_classifier\\keypoint_classifier.hdf5\n",
            "31/31 [==============================] - 0s 2ms/step - loss: 0.5554 - accuracy: 0.7834 - val_loss: 0.2746 - val_accuracy: 0.9428\n",
            "Epoch 140/1000\n",
            " 1/31 [..............................] - ETA: 0s - loss: 0.5198 - accuracy: 0.7734\n",
            "Epoch 140: saving model to model/keypoint_classifier\\keypoint_classifier.hdf5\n",
            "31/31 [==============================] - 0s 3ms/step - loss: 0.5623 - accuracy: 0.7854 - val_loss: 0.2897 - val_accuracy: 0.9329\n",
            "Epoch 141/1000\n",
            " 1/31 [..............................] - ETA: 0s - loss: 0.4880 - accuracy: 0.7891\n",
            "Epoch 141: saving model to model/keypoint_classifier\\keypoint_classifier.hdf5\n",
            "31/31 [==============================] - 0s 2ms/step - loss: 0.5650 - accuracy: 0.7824 - val_loss: 0.2733 - val_accuracy: 0.9451\n",
            "Epoch 142/1000\n",
            " 1/31 [..............................] - ETA: 0s - loss: 0.5672 - accuracy: 0.8047\n",
            "Epoch 142: saving model to model/keypoint_classifier\\keypoint_classifier.hdf5\n",
            "31/31 [==============================] - 0s 2ms/step - loss: 0.5630 - accuracy: 0.7923 - val_loss: 0.2801 - val_accuracy: 0.9390\n",
            "Epoch 143/1000\n",
            " 1/31 [..............................] - ETA: 0s - loss: 0.6339 - accuracy: 0.7500\n",
            "Epoch 143: saving model to model/keypoint_classifier\\keypoint_classifier.hdf5\n",
            "31/31 [==============================] - 0s 2ms/step - loss: 0.5616 - accuracy: 0.7816 - val_loss: 0.2702 - val_accuracy: 0.9451\n",
            "Epoch 144/1000\n",
            " 1/31 [..............................] - ETA: 0s - loss: 0.6332 - accuracy: 0.7422\n",
            "Epoch 144: saving model to model/keypoint_classifier\\keypoint_classifier.hdf5\n",
            "31/31 [==============================] - 0s 2ms/step - loss: 0.5354 - accuracy: 0.7895 - val_loss: 0.2620 - val_accuracy: 0.9436\n",
            "Epoch 145/1000\n",
            " 1/31 [..............................] - ETA: 0s - loss: 0.5809 - accuracy: 0.8125\n",
            "Epoch 145: saving model to model/keypoint_classifier\\keypoint_classifier.hdf5\n",
            "31/31 [==============================] - 0s 2ms/step - loss: 0.5506 - accuracy: 0.7915 - val_loss: 0.2788 - val_accuracy: 0.9390\n",
            "Epoch 146/1000\n",
            " 1/31 [..............................] - ETA: 0s - loss: 0.5835 - accuracy: 0.7812\n",
            "Epoch 146: saving model to model/keypoint_classifier\\keypoint_classifier.hdf5\n",
            "31/31 [==============================] - 0s 2ms/step - loss: 0.5629 - accuracy: 0.7890 - val_loss: 0.2777 - val_accuracy: 0.9397\n",
            "Epoch 147/1000\n",
            " 1/31 [..............................] - ETA: 0s - loss: 0.5715 - accuracy: 0.7578\n",
            "Epoch 147: saving model to model/keypoint_classifier\\keypoint_classifier.hdf5\n",
            "31/31 [==============================] - 0s 2ms/step - loss: 0.5349 - accuracy: 0.7984 - val_loss: 0.2698 - val_accuracy: 0.9420\n",
            "Epoch 148/1000\n",
            " 1/31 [..............................] - ETA: 0s - loss: 0.5350 - accuracy: 0.8281\n",
            "Epoch 148: saving model to model/keypoint_classifier\\keypoint_classifier.hdf5\n",
            "31/31 [==============================] - 0s 2ms/step - loss: 0.5525 - accuracy: 0.7933 - val_loss: 0.2731 - val_accuracy: 0.9397\n",
            "Epoch 149/1000\n",
            " 1/31 [..............................] - ETA: 0s - loss: 0.5107 - accuracy: 0.8047\n",
            "Epoch 149: saving model to model/keypoint_classifier\\keypoint_classifier.hdf5\n",
            "31/31 [==============================] - 0s 2ms/step - loss: 0.5582 - accuracy: 0.7859 - val_loss: 0.2741 - val_accuracy: 0.9428\n",
            "Epoch 150/1000\n",
            " 1/31 [..............................] - ETA: 0s - loss: 0.6484 - accuracy: 0.7578\n",
            "Epoch 150: saving model to model/keypoint_classifier\\keypoint_classifier.hdf5\n",
            "31/31 [==============================] - 0s 2ms/step - loss: 0.5386 - accuracy: 0.7938 - val_loss: 0.2730 - val_accuracy: 0.9420\n",
            "Epoch 151/1000\n",
            " 1/31 [..............................] - ETA: 0s - loss: 0.6630 - accuracy: 0.7812\n",
            "Epoch 151: saving model to model/keypoint_classifier\\keypoint_classifier.hdf5\n",
            "31/31 [==============================] - 0s 2ms/step - loss: 0.5613 - accuracy: 0.7956 - val_loss: 0.2706 - val_accuracy: 0.9443\n",
            "Epoch 152/1000\n",
            " 1/31 [..............................] - ETA: 0s - loss: 0.5065 - accuracy: 0.8281\n",
            "Epoch 152: saving model to model/keypoint_classifier\\keypoint_classifier.hdf5\n",
            "31/31 [==============================] - 0s 2ms/step - loss: 0.5324 - accuracy: 0.7933 - val_loss: 0.2613 - val_accuracy: 0.9451\n",
            "Epoch 153/1000\n",
            " 1/31 [..............................] - ETA: 0s - loss: 0.5931 - accuracy: 0.8125\n",
            "Epoch 153: saving model to model/keypoint_classifier\\keypoint_classifier.hdf5\n",
            "31/31 [==============================] - 0s 2ms/step - loss: 0.5508 - accuracy: 0.7862 - val_loss: 0.2645 - val_accuracy: 0.9397\n",
            "Epoch 154/1000\n",
            " 1/31 [..............................] - ETA: 0s - loss: 0.4429 - accuracy: 0.8438\n",
            "Epoch 154: saving model to model/keypoint_classifier\\keypoint_classifier.hdf5\n",
            "31/31 [==============================] - 0s 2ms/step - loss: 0.5640 - accuracy: 0.7887 - val_loss: 0.2742 - val_accuracy: 0.9405\n",
            "Epoch 155/1000\n",
            " 1/31 [..............................] - ETA: 0s - loss: 0.5064 - accuracy: 0.8047\n",
            "Epoch 155: saving model to model/keypoint_classifier\\keypoint_classifier.hdf5\n",
            "31/31 [==============================] - 0s 2ms/step - loss: 0.5485 - accuracy: 0.7872 - val_loss: 0.2607 - val_accuracy: 0.9458\n",
            "Epoch 156/1000\n",
            " 1/31 [..............................] - ETA: 0s - loss: 0.5847 - accuracy: 0.7500\n",
            "Epoch 156: saving model to model/keypoint_classifier\\keypoint_classifier.hdf5\n",
            "31/31 [==============================] - 0s 2ms/step - loss: 0.5456 - accuracy: 0.7920 - val_loss: 0.2668 - val_accuracy: 0.9413\n",
            "Epoch 157/1000\n",
            " 1/31 [..............................] - ETA: 0s - loss: 0.3948 - accuracy: 0.8438\n",
            "Epoch 157: saving model to model/keypoint_classifier\\keypoint_classifier.hdf5\n",
            "31/31 [==============================] - 0s 2ms/step - loss: 0.5348 - accuracy: 0.7958 - val_loss: 0.2668 - val_accuracy: 0.9451\n",
            "Epoch 158/1000\n",
            " 1/31 [..............................] - ETA: 0s - loss: 0.6354 - accuracy: 0.7656\n",
            "Epoch 158: saving model to model/keypoint_classifier\\keypoint_classifier.hdf5\n",
            "31/31 [==============================] - 0s 2ms/step - loss: 0.5551 - accuracy: 0.7874 - val_loss: 0.2605 - val_accuracy: 0.9413\n",
            "Epoch 159/1000\n",
            " 1/31 [..............................] - ETA: 0s - loss: 0.4319 - accuracy: 0.8594\n",
            "Epoch 159: saving model to model/keypoint_classifier\\keypoint_classifier.hdf5\n",
            "31/31 [==============================] - 0s 2ms/step - loss: 0.5460 - accuracy: 0.7948 - val_loss: 0.2847 - val_accuracy: 0.9314\n",
            "Epoch 160/1000\n",
            " 1/31 [..............................] - ETA: 0s - loss: 0.5174 - accuracy: 0.7812\n",
            "Epoch 160: saving model to model/keypoint_classifier\\keypoint_classifier.hdf5\n",
            "31/31 [==============================] - 0s 2ms/step - loss: 0.5497 - accuracy: 0.7836 - val_loss: 0.2703 - val_accuracy: 0.9405\n",
            "Epoch 161/1000\n",
            " 1/31 [..............................] - ETA: 0s - loss: 0.5791 - accuracy: 0.7812\n",
            "Epoch 161: saving model to model/keypoint_classifier\\keypoint_classifier.hdf5\n",
            "31/31 [==============================] - 0s 3ms/step - loss: 0.5385 - accuracy: 0.7968 - val_loss: 0.2732 - val_accuracy: 0.9321\n",
            "Epoch 162/1000\n",
            " 1/31 [..............................] - ETA: 0s - loss: 0.4449 - accuracy: 0.8594\n",
            "Epoch 162: saving model to model/keypoint_classifier\\keypoint_classifier.hdf5\n",
            "31/31 [==============================] - 0s 2ms/step - loss: 0.5311 - accuracy: 0.7979 - val_loss: 0.2570 - val_accuracy: 0.9466\n",
            "Epoch 163/1000\n",
            " 1/31 [..............................] - ETA: 0s - loss: 0.5453 - accuracy: 0.7969\n",
            "Epoch 163: saving model to model/keypoint_classifier\\keypoint_classifier.hdf5\n",
            "31/31 [==============================] - 0s 2ms/step - loss: 0.5498 - accuracy: 0.7918 - val_loss: 0.2722 - val_accuracy: 0.9329\n",
            "Epoch 164/1000\n",
            " 1/31 [..............................] - ETA: 0s - loss: 0.4677 - accuracy: 0.8203\n",
            "Epoch 164: saving model to model/keypoint_classifier\\keypoint_classifier.hdf5\n",
            "31/31 [==============================] - 0s 2ms/step - loss: 0.5519 - accuracy: 0.7874 - val_loss: 0.2631 - val_accuracy: 0.9420\n",
            "Epoch 165/1000\n",
            " 1/31 [..............................] - ETA: 0s - loss: 0.7156 - accuracy: 0.7500\n",
            "Epoch 165: saving model to model/keypoint_classifier\\keypoint_classifier.hdf5\n",
            "31/31 [==============================] - 0s 2ms/step - loss: 0.5375 - accuracy: 0.7935 - val_loss: 0.2558 - val_accuracy: 0.9474\n",
            "Epoch 166/1000\n",
            " 1/31 [..............................] - ETA: 0s - loss: 0.5955 - accuracy: 0.7422\n",
            "Epoch 166: saving model to model/keypoint_classifier\\keypoint_classifier.hdf5\n",
            "31/31 [==============================] - 0s 2ms/step - loss: 0.5512 - accuracy: 0.7920 - val_loss: 0.2651 - val_accuracy: 0.9375\n",
            "Epoch 167/1000\n",
            " 1/31 [..............................] - ETA: 0s - loss: 0.5299 - accuracy: 0.8281\n",
            "Epoch 167: saving model to model/keypoint_classifier\\keypoint_classifier.hdf5\n",
            "31/31 [==============================] - 0s 2ms/step - loss: 0.5385 - accuracy: 0.7953 - val_loss: 0.2663 - val_accuracy: 0.9344\n",
            "Epoch 168/1000\n",
            " 1/31 [..............................] - ETA: 0s - loss: 0.6094 - accuracy: 0.7344\n",
            "Epoch 168: saving model to model/keypoint_classifier\\keypoint_classifier.hdf5\n",
            "31/31 [==============================] - 0s 2ms/step - loss: 0.5379 - accuracy: 0.7946 - val_loss: 0.2616 - val_accuracy: 0.9390\n",
            "Epoch 169/1000\n",
            " 1/31 [..............................] - ETA: 0s - loss: 0.5573 - accuracy: 0.7734\n",
            "Epoch 169: saving model to model/keypoint_classifier\\keypoint_classifier.hdf5\n",
            "31/31 [==============================] - 0s 2ms/step - loss: 0.5302 - accuracy: 0.7981 - val_loss: 0.2671 - val_accuracy: 0.9367\n",
            "Epoch 170/1000\n",
            " 1/31 [..............................] - ETA: 0s - loss: 0.5741 - accuracy: 0.7422\n",
            "Epoch 170: saving model to model/keypoint_classifier\\keypoint_classifier.hdf5\n",
            "31/31 [==============================] - 0s 2ms/step - loss: 0.5451 - accuracy: 0.7923 - val_loss: 0.2700 - val_accuracy: 0.9314\n",
            "Epoch 171/1000\n",
            " 1/31 [..............................] - ETA: 0s - loss: 0.5551 - accuracy: 0.8125\n",
            "Epoch 171: saving model to model/keypoint_classifier\\keypoint_classifier.hdf5\n",
            "31/31 [==============================] - 0s 2ms/step - loss: 0.5418 - accuracy: 0.7882 - val_loss: 0.2729 - val_accuracy: 0.9298\n",
            "Epoch 172/1000\n",
            " 1/31 [..............................] - ETA: 0s - loss: 0.5092 - accuracy: 0.8359\n",
            "Epoch 172: saving model to model/keypoint_classifier\\keypoint_classifier.hdf5\n",
            "31/31 [==============================] - 0s 2ms/step - loss: 0.5478 - accuracy: 0.7938 - val_loss: 0.2671 - val_accuracy: 0.9390\n",
            "Epoch 173/1000\n",
            " 1/31 [..............................] - ETA: 0s - loss: 0.5642 - accuracy: 0.8125\n",
            "Epoch 173: saving model to model/keypoint_classifier\\keypoint_classifier.hdf5\n",
            "31/31 [==============================] - 0s 2ms/step - loss: 0.5380 - accuracy: 0.8007 - val_loss: 0.2568 - val_accuracy: 0.9436\n",
            "Epoch 174/1000\n",
            " 1/31 [..............................] - ETA: 0s - loss: 0.5758 - accuracy: 0.7969\n",
            "Epoch 174: saving model to model/keypoint_classifier\\keypoint_classifier.hdf5\n",
            "31/31 [==============================] - 0s 2ms/step - loss: 0.5664 - accuracy: 0.7857 - val_loss: 0.2735 - val_accuracy: 0.9336\n",
            "Epoch 175/1000\n",
            " 1/31 [..............................] - ETA: 0s - loss: 0.4845 - accuracy: 0.7891\n",
            "Epoch 175: saving model to model/keypoint_classifier\\keypoint_classifier.hdf5\n",
            "31/31 [==============================] - 0s 2ms/step - loss: 0.5620 - accuracy: 0.7836 - val_loss: 0.2707 - val_accuracy: 0.9329\n",
            "Epoch 176/1000\n",
            " 1/31 [..............................] - ETA: 0s - loss: 0.4413 - accuracy: 0.8281\n",
            "Epoch 176: saving model to model/keypoint_classifier\\keypoint_classifier.hdf5\n",
            "31/31 [==============================] - 0s 2ms/step - loss: 0.5509 - accuracy: 0.7808 - val_loss: 0.2709 - val_accuracy: 0.9352\n",
            "Epoch 177/1000\n",
            " 1/31 [..............................] - ETA: 0s - loss: 0.4505 - accuracy: 0.8516\n",
            "Epoch 177: saving model to model/keypoint_classifier\\keypoint_classifier.hdf5\n",
            "31/31 [==============================] - 0s 2ms/step - loss: 0.5255 - accuracy: 0.7981 - val_loss: 0.2813 - val_accuracy: 0.9291\n",
            "Epoch 178/1000\n",
            " 1/31 [..............................] - ETA: 0s - loss: 0.5508 - accuracy: 0.7656\n",
            "Epoch 178: saving model to model/keypoint_classifier\\keypoint_classifier.hdf5\n",
            "31/31 [==============================] - 0s 2ms/step - loss: 0.5435 - accuracy: 0.7913 - val_loss: 0.2682 - val_accuracy: 0.9375\n",
            "Epoch 179/1000\n",
            " 1/31 [..............................] - ETA: 0s - loss: 0.5478 - accuracy: 0.7891\n",
            "Epoch 179: saving model to model/keypoint_classifier\\keypoint_classifier.hdf5\n",
            "31/31 [==============================] - 0s 2ms/step - loss: 0.5359 - accuracy: 0.7979 - val_loss: 0.2652 - val_accuracy: 0.9375\n",
            "Epoch 180/1000\n",
            " 1/31 [..............................] - ETA: 0s - loss: 0.6205 - accuracy: 0.7578\n",
            "Epoch 180: saving model to model/keypoint_classifier\\keypoint_classifier.hdf5\n",
            "31/31 [==============================] - 0s 2ms/step - loss: 0.5562 - accuracy: 0.7785 - val_loss: 0.2744 - val_accuracy: 0.9375\n",
            "Epoch 181/1000\n",
            " 1/31 [..............................] - ETA: 0s - loss: 0.4914 - accuracy: 0.8438\n",
            "Epoch 181: saving model to model/keypoint_classifier\\keypoint_classifier.hdf5\n",
            "31/31 [==============================] - 0s 2ms/step - loss: 0.5481 - accuracy: 0.7958 - val_loss: 0.2654 - val_accuracy: 0.9390\n",
            "Epoch 182/1000\n",
            " 1/31 [..............................] - ETA: 0s - loss: 0.4632 - accuracy: 0.8125\n",
            "Epoch 182: saving model to model/keypoint_classifier\\keypoint_classifier.hdf5\n",
            "31/31 [==============================] - 0s 2ms/step - loss: 0.5497 - accuracy: 0.7968 - val_loss: 0.2735 - val_accuracy: 0.9314\n",
            "Epoch 183/1000\n",
            " 1/31 [..............................] - ETA: 0s - loss: 0.5186 - accuracy: 0.8281\n",
            "Epoch 183: saving model to model/keypoint_classifier\\keypoint_classifier.hdf5\n",
            "31/31 [==============================] - 0s 2ms/step - loss: 0.5448 - accuracy: 0.7963 - val_loss: 0.2570 - val_accuracy: 0.9436\n",
            "Epoch 184/1000\n",
            " 1/31 [..............................] - ETA: 0s - loss: 0.5765 - accuracy: 0.7578\n",
            "Epoch 184: saving model to model/keypoint_classifier\\keypoint_classifier.hdf5\n",
            "31/31 [==============================] - 0s 2ms/step - loss: 0.5420 - accuracy: 0.7941 - val_loss: 0.2679 - val_accuracy: 0.9375\n",
            "Epoch 185/1000\n",
            " 1/31 [..............................] - ETA: 0s - loss: 0.6005 - accuracy: 0.7422\n",
            "Epoch 185: saving model to model/keypoint_classifier\\keypoint_classifier.hdf5\n",
            "31/31 [==============================] - 0s 2ms/step - loss: 0.5414 - accuracy: 0.7925 - val_loss: 0.2650 - val_accuracy: 0.9352\n",
            "Epoch 185: early stopping\n"
          ]
        },
        {
          "data": {
            "text/plain": [
              "<keras.src.callbacks.History at 0x1ff830f7ee0>"
            ]
          },
          "execution_count": 39,
          "metadata": {},
          "output_type": "execute_result"
        }
      ],
      "source": [
        "model.fit(\n",
        "    X_train,\n",
        "    y_train,\n",
        "    epochs=1000,\n",
        "    batch_size=128,\n",
        "    validation_data=(X_test, y_test),\n",
        "    callbacks=[cp_callback, es_callback]\n",
        ")"
      ]
    },
    {
      "cell_type": "code",
      "execution_count": 40,
      "metadata": {
        "colab": {
          "base_uri": "https://localhost:8080/"
        },
        "id": "pxvb2Y299hE3",
        "outputId": "59eb3185-2e37-4b9e-bc9d-ab1b8ac29b7f"
      },
      "outputs": [
        {
          "name": "stdout",
          "output_type": "stream",
          "text": [
            "11/11 [==============================] - 0s 760us/step - loss: 0.2650 - accuracy: 0.9352\n"
          ]
        }
      ],
      "source": [
        "# Model evaluation\n",
        "val_loss, val_acc = model.evaluate(X_test, y_test, batch_size=128)"
      ]
    },
    {
      "cell_type": "code",
      "execution_count": 41,
      "metadata": {
        "id": "RBkmDeUW9hE4"
      },
      "outputs": [],
      "source": [
        "# Loading the saved model\n",
        "model = tf.keras.models.load_model(model_save_path)"
      ]
    },
    {
      "cell_type": "code",
      "execution_count": 42,
      "metadata": {
        "colab": {
          "base_uri": "https://localhost:8080/"
        },
        "id": "tFz9Tb0I9hE4",
        "outputId": "1c3b3528-54ae-4ee2-ab04-77429211cbef"
      },
      "outputs": [
        {
          "name": "stdout",
          "output_type": "stream",
          "text": [
            "1/1 [==============================] - 0s 56ms/step\n",
            "[5.9947977e-03 9.8431987e-01 9.1198143e-03 5.6561094e-04 7.4670542e-10\n",
            " 1.5489234e-09]\n",
            "1\n"
          ]
        }
      ],
      "source": [
        "# Inference test\n",
        "predict_result = model.predict(np.array([X_test[0]]))\n",
        "print(np.squeeze(predict_result))\n",
        "print(np.argmax(np.squeeze(predict_result)))"
      ]
    },
    {
      "cell_type": "markdown",
      "metadata": {
        "id": "S3U4yNWx9hE4"
      },
      "source": [
        "# Confusion matrix"
      ]
    },
    {
      "cell_type": "code",
      "execution_count": 43,
      "metadata": {
        "colab": {
          "base_uri": "https://localhost:8080/",
          "height": 582
        },
        "id": "AP1V6SCk9hE5",
        "outputId": "08e41a80-7a4a-4619-8125-ecc371368d19"
      },
      "outputs": [
        {
          "name": "stdout",
          "output_type": "stream",
          "text": [
            "41/41 [==============================] - 0s 553us/step\n"
          ]
        },
        {
          "data": {
            "image/png": "[encoded data removed]",
            "text/plain": [
              "<Figure size 700x600 with 2 Axes>"
            ]
          },
          "metadata": {},
          "output_type": "display_data"
        },
        {
          "name": "stdout",
          "output_type": "stream",
          "text": [
            "Classification Report\n",
            "              precision    recall  f1-score   support\n",
            "\n",
            "           0       0.96      0.99      0.97       412\n",
            "           1       0.99      0.81      0.89       379\n",
            "           2       0.88      0.98      0.93       316\n",
            "           3       1.00      0.99      0.99        91\n",
            "           4       0.00      0.00      0.00         1\n",
            "           5       0.84      1.00      0.91       112\n",
            "\n",
            "    accuracy                           0.94      1311\n",
            "   macro avg       0.78      0.79      0.78      1311\n",
            "weighted avg       0.94      0.94      0.93      1311\n",
            "\n"
          ]
        },
        {
          "name": "stderr",
          "output_type": "stream",
          "text": [
            "c:\\Users\\ongxu\\OneDrive\\Documents\\Coding\\projects\\python_projects\\env\\lib\\site-packages\\sklearn\\metrics\\_classification.py:1509: UndefinedMetricWarning: Precision is ill-defined and being set to 0.0 in labels with no predicted samples. Use `zero_division` parameter to control this behavior.\n",
            "  _warn_prf(average, modifier, f\"{metric.capitalize()} is\", len(result))\n",
            "c:\\Users\\ongxu\\OneDrive\\Documents\\Coding\\projects\\python_projects\\env\\lib\\site-packages\\sklearn\\metrics\\_classification.py:1509: UndefinedMetricWarning: Precision is ill-defined and being set to 0.0 in labels with no predicted samples. Use `zero_division` parameter to control this behavior.\n",
            "  _warn_prf(average, modifier, f\"{metric.capitalize()} is\", len(result))\n",
            "c:\\Users\\ongxu\\OneDrive\\Documents\\Coding\\projects\\python_projects\\env\\lib\\site-packages\\sklearn\\metrics\\_classification.py:1509: UndefinedMetricWarning: Precision is ill-defined and being set to 0.0 in labels with no predicted samples. Use `zero_division` parameter to control this behavior.\n",
            "  _warn_prf(average, modifier, f\"{metric.capitalize()} is\", len(result))\n"
          ]
        }
      ],
      "source": [
        "import pandas as pd\n",
        "import seaborn as sns\n",
        "import matplotlib.pyplot as plt\n",
        "from sklearn.metrics import confusion_matrix, classification_report\n",
        "\n",
        "def print_confusion_matrix(y_true, y_pred, report=True):\n",
        "    labels = sorted(list(set(y_true)))\n",
        "    cmx_data = confusion_matrix(y_true, y_pred, labels=labels)\n",
        "    \n",
        "    df_cmx = pd.DataFrame(cmx_data, index=labels, columns=labels)\n",
        " \n",
        "    fig, ax = plt.subplots(figsize=(7, 6))\n",
        "    sns.heatmap(df_cmx, annot=True, fmt='g' ,square=False)\n",
        "    ax.set_ylim(len(set(y_true)), 0)\n",
        "    plt.show()\n",
        "    \n",
        "    if report:\n",
        "        print('Classification Report')\n",
        "        print(classification_report(y_test, y_pred))\n",
        "\n",
        "Y_pred = model.predict(X_test)\n",
        "y_pred = np.argmax(Y_pred, axis=1)\n",
        "\n",
        "print_confusion_matrix(y_test, y_pred)"
      ]
    },
    {
      "cell_type": "markdown",
      "metadata": {
        "id": "FNP6aqzc9hE5"
      },
      "source": [
        "# Convert to model for Tensorflow-Lite"
      ]
    },
    {
      "cell_type": "code",
      "execution_count": 44,
      "metadata": {
        "id": "ODjnYyld9hE6"
      },
      "outputs": [
        {
          "name": "stderr",
          "output_type": "stream",
          "text": [
            "c:\\Users\\ongxu\\OneDrive\\Documents\\Coding\\projects\\python_projects\\env\\lib\\site-packages\\keras\\src\\engine\\training.py:3103: UserWarning: You are saving your model as an HDF5 file via `model.save()`. This file format is considered legacy. We recommend using instead the native Keras format, e.g. `model.save('my_model.keras')`.\n",
            "  saving_api.save_model(\n"
          ]
        }
      ],
      "source": [
        "# Save as a model dedicated to inference\n",
        "model.save(model_save_path, include_optimizer=False)"
      ]
    },
    {
      "cell_type": "code",
      "execution_count": 45,
      "metadata": {
        "colab": {
          "base_uri": "https://localhost:8080/"
        },
        "id": "zRfuK8Y59hE6",
        "outputId": "a4ca585c-b5d5-4244-8291-8674063209bb"
      },
      "outputs": [
        {
          "name": "stdout",
          "output_type": "stream",
          "text": [
            "INFO:tensorflow:Assets written to: C:\\Users\\ongxu\\AppData\\Local\\Temp\\tmpbmdv4vqc\\assets\n"
          ]
        },
        {
          "name": "stderr",
          "output_type": "stream",
          "text": [
            "INFO:tensorflow:Assets written to: C:\\Users\\ongxu\\AppData\\Local\\Temp\\tmpbmdv4vqc\\assets\n"
          ]
        },
        {
          "data": {
            "text/plain": [
              "6660"
            ]
          },
          "execution_count": 45,
          "metadata": {},
          "output_type": "execute_result"
        }
      ],
      "source": [
        "# Transform model (quantization)\n",
        "\n",
        "converter = tf.lite.TFLiteConverter.from_keras_model(model)\n",
        "converter.optimizations = [tf.lite.Optimize.DEFAULT]\n",
        "tflite_quantized_model = converter.convert()\n",
        "\n",
        "open(tflite_save_path, 'wb').write(tflite_quantized_model)"
      ]
    },
    {
      "cell_type": "markdown",
      "metadata": {
        "id": "CHBPBXdx9hE6"
      },
      "source": [
        "# Inference test"
      ]
    },
    {
      "cell_type": "code",
      "execution_count": 46,
      "metadata": {
        "id": "mGAzLocO9hE7"
      },
      "outputs": [],
      "source": [
        "interpreter = tf.lite.Interpreter(model_path=tflite_save_path)\n",
        "interpreter.allocate_tensors()"
      ]
    },
    {
      "cell_type": "code",
      "execution_count": 47,
      "metadata": {
        "id": "oQuDK8YS9hE7"
      },
      "outputs": [],
      "source": [
        "# Get I / O tensor\n",
        "input_details = interpreter.get_input_details()\n",
        "output_details = interpreter.get_output_details()"
      ]
    },
    {
      "cell_type": "code",
      "execution_count": 48,
      "metadata": {
        "id": "2_ixAf_l9hE7"
      },
      "outputs": [],
      "source": [
        "interpreter.set_tensor(input_details[0]['index'], np.array([X_test[0]]))"
      ]
    },
    {
      "cell_type": "code",
      "execution_count": 49,
      "metadata": {
        "colab": {
          "base_uri": "https://localhost:8080/"
        },
        "id": "s4FoAnuc9hE7",
        "outputId": "91f18257-8d8b-4ef3-c558-e9b5f94fabbf",
        "scrolled": true
      },
      "outputs": [
        {
          "name": "stdout",
          "output_type": "stream",
          "text": [
            "CPU times: total: 0 ns\n",
            "Wall time: 978 µs\n"
          ]
        }
      ],
      "source": [
        "%%time\n",
        "# Inference implementation\n",
        "interpreter.invoke()\n",
        "tflite_results = interpreter.get_tensor(output_details[0]['index'])"
      ]
    },
    {
      "cell_type": "code",
      "execution_count": 50,
      "metadata": {
        "colab": {
          "base_uri": "https://localhost:8080/"
        },
        "id": "vONjp19J9hE8",
        "outputId": "77205e24-fd00-42c4-f7b6-e06e527c2cba"
      },
      "outputs": [
        {
          "name": "stdout",
          "output_type": "stream",
          "text": [
            "[5.9947944e-03 9.8431987e-01 9.1198096e-03 5.6561071e-04 7.4670536e-10\n",
            " 1.5489233e-09]\n",
            "1\n"
          ]
        }
      ],
      "source": [
        "print(np.squeeze(tflite_results))\n",
        "print(np.argmax(np.squeeze(tflite_results)))"
      ]
    }
  ],
  "metadata": {
    "accelerator": "GPU",
    "colab": {
      "collapsed_sections": [],
      "name": "keypoint_classification_EN.ipynb",
      "provenance": [],
      "toc_visible": true
    },
    "kernelspec": {
      "display_name": "Python 3",
      "language": "python",
      "name": "python3"
    },
    "language_info": {
      "codemirror_mode": {
        "name": "ipython",
        "version": 3
      },
      "file_extension": ".py",
      "mimetype": "text/x-python",
      "name": "python",
      "nbconvert_exporter": "python",
      "pygments_lexer": "ipython3",
      "version": "3.9.7"
    }
  },
  "nbformat": 4,
  "nbformat_minor": 0
}
